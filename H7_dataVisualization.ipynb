{
 "cells": [
  {
   "cell_type": "markdown",
   "id": "4803396a",
   "metadata": {},
   "source": [
    "# Homework Data Visualization\n",
    "\n",
    "$\\textbf{Ubah nama di bawah yaa!}$\n",
    "\n",
    "- Nama: Credenda Mirandantons"
   ]
  },
  {
   "cell_type": "code",
   "execution_count": 97,
   "id": "6a5b23a3",
   "metadata": {},
   "outputs": [],
   "source": [
    "import pandas as pd\n",
    "import matplotlib.pyplot as plt\n",
    "import seaborn as sns\n",
    "import numpy as np\n"
   ]
  },
  {
   "cell_type": "markdown",
   "id": "5d0e53d6",
   "metadata": {},
   "source": [
    "# Normal"
   ]
  },
  {
   "cell_type": "markdown",
   "id": "8bf9fdf9",
   "metadata": {},
   "source": [
    "## NO.1"
   ]
  },
  {
   "cell_type": "markdown",
   "id": "bca8a7eb",
   "metadata": {},
   "source": [
    "## Dalam rata-rata, payment method mana yang memiliki monthly charge terbesar per customernya?\n",
    "\n",
    "Hint: Gunakan groupby payment method terhadap monthly charge dengan aggregate function rata-rata"
   ]
  },
  {
   "cell_type": "code",
   "execution_count": 98,
   "id": "f1f6607b",
   "metadata": {},
   "outputs": [
    {
     "data": {
      "text/html": [
       "<div>\n",
       "<style scoped>\n",
       "    .dataframe tbody tr th:only-of-type {\n",
       "        vertical-align: middle;\n",
       "    }\n",
       "\n",
       "    .dataframe tbody tr th {\n",
       "        vertical-align: top;\n",
       "    }\n",
       "\n",
       "    .dataframe thead th {\n",
       "        text-align: right;\n",
       "    }\n",
       "</style>\n",
       "<table border=\"1\" class=\"dataframe\">\n",
       "  <thead>\n",
       "    <tr style=\"text-align: right;\">\n",
       "      <th></th>\n",
       "      <th>PaymentMethod</th>\n",
       "      <th>MonthlyCharges</th>\n",
       "    </tr>\n",
       "  </thead>\n",
       "  <tbody>\n",
       "    <tr>\n",
       "      <th>0</th>\n",
       "      <td>Bank transfer (automatic)</td>\n",
       "      <td>1544</td>\n",
       "    </tr>\n",
       "    <tr>\n",
       "      <th>1</th>\n",
       "      <td>Credit card (automatic)</td>\n",
       "      <td>1522</td>\n",
       "    </tr>\n",
       "    <tr>\n",
       "      <th>2</th>\n",
       "      <td>Electronic check</td>\n",
       "      <td>2365</td>\n",
       "    </tr>\n",
       "    <tr>\n",
       "      <th>3</th>\n",
       "      <td>Mailed check</td>\n",
       "      <td>1612</td>\n",
       "    </tr>\n",
       "  </tbody>\n",
       "</table>\n",
       "</div>"
      ],
      "text/plain": [
       "               PaymentMethod  MonthlyCharges\n",
       "0  Bank transfer (automatic)            1544\n",
       "1    Credit card (automatic)            1522\n",
       "2           Electronic check            2365\n",
       "3               Mailed check            1612"
      ]
     },
     "execution_count": 98,
     "metadata": {},
     "output_type": "execute_result"
    }
   ],
   "source": [
    "# your code goes here!\n",
    "no_1 = df.groupby('PaymentMethod').agg({'MonthlyCharges' : 'count'}).reset_index()\n",
    "no_1"
   ]
  },
  {
   "cell_type": "code",
   "execution_count": 4,
   "id": "eea41510",
   "metadata": {},
   "outputs": [
    {
     "data": {
      "text/plain": [
       "<AxesSubplot:xlabel='PaymentMethod'>"
      ]
     },
     "execution_count": 4,
     "metadata": {},
     "output_type": "execute_result"
    },
    {
     "data": {
      "image/png": "[encoded data removed]",
      "text/plain": [
       "<Figure size 432x288 with 1 Axes>"
      ]
     },
     "metadata": {
      "needs_background": "light"
     },
     "output_type": "display_data"
    }
   ],
   "source": [
    "#grafik \n",
    "no_1.plot(x = 'PaymentMethod', y ='MonthlyCharges', kind = 'bar')"
   ]
  },
  {
   "cell_type": "markdown",
   "id": "2cd79af6",
   "metadata": {},
   "source": [
    "Jadi, dari plot di atas, kami menyimpulkan bahwa Payment Method terbesar pada Electronic chek sedangkan yang Payment Method terkecil pada Credit Card (automatic). Data tersebut didapati berdasarkan dari rata rata jumlah Monthly Charges dari customer. "
   ]
  },
  {
   "cell_type": "markdown",
   "id": "8e0d2052",
   "metadata": {},
   "source": [
    "$\\textbf{Jangan lupa kasih kesimpulan dari visualisasi yang kalian buat! Isi seperti diatas ya}$"
   ]
  },
  {
   "cell_type": "markdown",
   "id": "294fe467",
   "metadata": {},
   "source": [
    "## NO.2\n",
    "\n",
    "## Bagaimana jumlah customer dilihat dari tenure group?\n",
    "\n",
    "Tenure group:\n",
    "- low_tenure: User dengan tenure < 21 bulan\n",
    "- medium_tenure: User dengan tenure 21 - 40 bulan\n",
    "- high_tenure: User dengan tenure > 40 bulan\n",
    "\n",
    "Hint:\n",
    "- Memotong data integer menjadi group categorical dapat menggunakan beberapa macam cara, contohnya dengan numpy.where atau pandas.cut\n",
    "- Mirip dengan plot pertama, namun ini menghitung jumlah unique users"
   ]
  },
  {
   "cell_type": "code",
   "execution_count": 13,
   "id": "b95a5624",
   "metadata": {},
   "outputs": [
    {
     "data": {
      "text/plain": [
       "low_tenure       2878\n",
       "high_tenure      2757\n",
       "medium_tenure    1408\n",
       "Name: Tenure group, dtype: int64"
      ]
     },
     "execution_count": 13,
     "metadata": {},
     "output_type": "execute_result"
    }
   ],
   "source": [
    "# read your data\n",
    "no_2 = pd.read_csv('telco_customer.csv')\n",
    "\n",
    "#mengelompokkan tenure dengan np.where\n",
    "no_2['Tenure group'] = np.where(no_2['tenure'] <21, 'low_tenure',\n",
    "                           np.where(no_2['tenure'] <= 40, 'medium_tenure', 'high_tenure'))\n",
    "\n",
    "#Cek kolom tenure group\n",
    "no_2['Tenure group'].value_counts()"
   ]
  },
  {
   "cell_type": "code",
   "execution_count": 101,
   "id": "a6f02855",
   "metadata": {
    "scrolled": true
   },
   "outputs": [
    {
     "data": {
      "text/html": [
       "<div>\n",
       "<style scoped>\n",
       "    .dataframe tbody tr th:only-of-type {\n",
       "        vertical-align: middle;\n",
       "    }\n",
       "\n",
       "    .dataframe tbody tr th {\n",
       "        vertical-align: top;\n",
       "    }\n",
       "\n",
       "    .dataframe thead th {\n",
       "        text-align: right;\n",
       "    }\n",
       "</style>\n",
       "<table border=\"1\" class=\"dataframe\">\n",
       "  <thead>\n",
       "    <tr style=\"text-align: right;\">\n",
       "      <th></th>\n",
       "      <th>Tenure group</th>\n",
       "      <th>customerID</th>\n",
       "    </tr>\n",
       "  </thead>\n",
       "  <tbody>\n",
       "    <tr>\n",
       "      <th>0</th>\n",
       "      <td>high_tenure</td>\n",
       "      <td>2757</td>\n",
       "    </tr>\n",
       "    <tr>\n",
       "      <th>1</th>\n",
       "      <td>low_tenure</td>\n",
       "      <td>2878</td>\n",
       "    </tr>\n",
       "    <tr>\n",
       "      <th>2</th>\n",
       "      <td>medium_tenure</td>\n",
       "      <td>1408</td>\n",
       "    </tr>\n",
       "  </tbody>\n",
       "</table>\n",
       "</div>"
      ],
      "text/plain": [
       "    Tenure group  customerID\n",
       "0    high_tenure        2757\n",
       "1     low_tenure        2878\n",
       "2  medium_tenure        1408"
      ]
     },
     "execution_count": 101,
     "metadata": {},
     "output_type": "execute_result"
    }
   ],
   "source": [
    "#jumlah user berdasarkan Tenure group menggunakan agg\n",
    "jumlah_user = no_2.groupby('Tenure group').agg({'customerID' : 'count'}).reset_index()\n",
    "jumlah_user\n"
   ]
  },
  {
   "cell_type": "code",
   "execution_count": 103,
   "id": "0e2d1559",
   "metadata": {},
   "outputs": [
    {
     "data": {
      "text/plain": [
       "<AxesSubplot:xlabel='Tenure group'>"
      ]
     },
     "execution_count": 103,
     "metadata": {},
     "output_type": "execute_result"
    },
    {
     "data": {
      "image/png": "[encoded data removed]",
      "text/plain": [
       "<Figure size 432x288 with 1 Axes>"
      ]
     },
     "metadata": {
      "needs_background": "light"
     },
     "output_type": "display_data"
    }
   ],
   "source": [
    "#grafik\n",
    "\n",
    "jumlah_user.plot(x='Tenure group', y='customerID',\n",
    "                 kind='bar')"
   ]
  },
  {
   "cell_type": "markdown",
   "id": "701a629f",
   "metadata": {},
   "source": [
    "Jadi, dari plot di atas, kami menyimpulkan bahwa cutomer terbanyak terdapat pada kelompok low_ternure, dimana artinya masa berlanggana customer umum nya akan berhenti saat < 21 bulan."
   ]
  },
  {
   "cell_type": "markdown",
   "id": "03c3b00a",
   "metadata": {},
   "source": [
    "$\\textbf{Jangan lupa kasih kesimpulan dari visualisasi yang kalian buat! Isi seperti diatas ya}$"
   ]
  },
  {
   "cell_type": "markdown",
   "id": "d2230fe6",
   "metadata": {},
   "source": [
    "## NO.3\n",
    "\n",
    "## Bagaimana Distribusi dari TotalCharge?\n",
    "\n",
    "Hint:\n",
    "- Ubah datatype TotalCharge dari object ke int atau float\n",
    "- Buat distribusi plot!"
   ]
  },
  {
   "cell_type": "code",
   "execution_count": 26,
   "id": "c03e5758",
   "metadata": {},
   "outputs": [
    {
     "data": {
      "text/html": [
       "<div>\n",
       "<style scoped>\n",
       "    .dataframe tbody tr th:only-of-type {\n",
       "        vertical-align: middle;\n",
       "    }\n",
       "\n",
       "    .dataframe tbody tr th {\n",
       "        vertical-align: top;\n",
       "    }\n",
       "\n",
       "    .dataframe thead th {\n",
       "        text-align: right;\n",
       "    }\n",
       "</style>\n",
       "<table border=\"1\" class=\"dataframe\">\n",
       "  <thead>\n",
       "    <tr style=\"text-align: right;\">\n",
       "      <th></th>\n",
       "      <th></th>\n",
       "      <th>customerID</th>\n",
       "    </tr>\n",
       "    <tr>\n",
       "      <th>SeniorCitizen</th>\n",
       "      <th>PhoneService</th>\n",
       "      <th></th>\n",
       "    </tr>\n",
       "  </thead>\n",
       "  <tbody>\n",
       "    <tr>\n",
       "      <th rowspan=\"2\" valign=\"top\">Senior</th>\n",
       "      <th>No</th>\n",
       "      <td>104</td>\n",
       "    </tr>\n",
       "    <tr>\n",
       "      <th>Yes</th>\n",
       "      <td>1038</td>\n",
       "    </tr>\n",
       "    <tr>\n",
       "      <th rowspan=\"2\" valign=\"top\">non-Senior</th>\n",
       "      <th>No</th>\n",
       "      <td>578</td>\n",
       "    </tr>\n",
       "    <tr>\n",
       "      <th>Yes</th>\n",
       "      <td>5323</td>\n",
       "    </tr>\n",
       "  </tbody>\n",
       "</table>\n",
       "</div>"
      ],
      "text/plain": [
       "                            customerID\n",
       "SeniorCitizen PhoneService            \n",
       "Senior        No                   104\n",
       "              Yes                 1038\n",
       "non-Senior    No                   578\n",
       "              Yes                 5323"
      ]
     },
     "execution_count": 26,
     "metadata": {},
     "output_type": "execute_result"
    }
   ],
   "source": [
    "# read your data\n",
    "no_3 = pd.read_csv('telco_customer.csv')\n",
    "\n",
    "no_3['SeniorCitizen']=np.where(df['SeniorCitizen']==1, 'Senior', 'non-Senior')\n",
    "\n",
    "group = no_3.groupby(['SeniorCitizen', 'PhoneService'])[['customerID']].nunique()\n",
    "group"
   ]
  },
  {
   "cell_type": "code",
   "execution_count": 28,
   "id": "2daa9adf",
   "metadata": {},
   "outputs": [
    {
     "data": {
      "text/html": [
       "<div>\n",
       "<style scoped>\n",
       "    .dataframe tbody tr th:only-of-type {\n",
       "        vertical-align: middle;\n",
       "    }\n",
       "\n",
       "    .dataframe tbody tr th {\n",
       "        vertical-align: top;\n",
       "    }\n",
       "\n",
       "    .dataframe thead th {\n",
       "        text-align: right;\n",
       "    }\n",
       "</style>\n",
       "<table border=\"1\" class=\"dataframe\">\n",
       "  <thead>\n",
       "    <tr style=\"text-align: right;\">\n",
       "      <th></th>\n",
       "      <th>SeniorCitizen</th>\n",
       "      <th>PhoneService</th>\n",
       "      <th>customerID</th>\n",
       "      <th>Percentage_Customer</th>\n",
       "    </tr>\n",
       "  </thead>\n",
       "  <tbody>\n",
       "    <tr>\n",
       "      <th>0</th>\n",
       "      <td>Senior</td>\n",
       "      <td>No</td>\n",
       "      <td>104</td>\n",
       "      <td>1.48</td>\n",
       "    </tr>\n",
       "    <tr>\n",
       "      <th>1</th>\n",
       "      <td>Senior</td>\n",
       "      <td>Yes</td>\n",
       "      <td>1038</td>\n",
       "      <td>14.74</td>\n",
       "    </tr>\n",
       "    <tr>\n",
       "      <th>2</th>\n",
       "      <td>non-Senior</td>\n",
       "      <td>No</td>\n",
       "      <td>578</td>\n",
       "      <td>8.21</td>\n",
       "    </tr>\n",
       "    <tr>\n",
       "      <th>3</th>\n",
       "      <td>non-Senior</td>\n",
       "      <td>Yes</td>\n",
       "      <td>5323</td>\n",
       "      <td>75.58</td>\n",
       "    </tr>\n",
       "  </tbody>\n",
       "</table>\n",
       "</div>"
      ],
      "text/plain": [
       "  SeniorCitizen PhoneService  customerID  Percentage_Customer\n",
       "0        Senior           No         104                 1.48\n",
       "1        Senior          Yes        1038                14.74\n",
       "2    non-Senior           No         578                 8.21\n",
       "3    non-Senior          Yes        5323                75.58"
      ]
     },
     "execution_count": 28,
     "metadata": {},
     "output_type": "execute_result"
    }
   ],
   "source": [
    "group['Percentage_Customer']=round(group['customerID']*100/sum(group['customerID']), 2)\n",
    "\n",
    "group = group.reset_index()\n",
    "group"
   ]
  },
  {
   "cell_type": "code",
   "execution_count": 33,
   "id": "843d5e55",
   "metadata": {},
   "outputs": [
    {
     "data": {
      "image/png": "[encoded data removed]",
      "text/plain": [
       "<Figure size 576x432 with 1 Axes>"
      ]
     },
     "metadata": {
      "needs_background": "light"
     },
     "output_type": "display_data"
    }
   ],
   "source": [
    "fig, axes=plt.subplots(figsize=(8,6))\n",
    "\n",
    "sns.barplot(x = 'SeniorCitizen', y='Percentage_Customer', data=group, ax=axes, hue='PhoneService')\n",
    "\n",
    "axes.set_ylabel('Amount of Customer')\n",
    "axes.set_xlabel('Senior Citizen')\n",
    "axes.set_title('Jumlah Customer pengguna layanan telepon dan non-telepon', fontweight='bold')\n",
    "plt.show()"
   ]
  },
  {
   "cell_type": "markdown",
   "id": "ef4131e5",
   "metadata": {},
   "source": [
    "Jadi, dari plot di atas, dapat disimpulkan bahwa..."
   ]
  },
  {
   "cell_type": "markdown",
   "id": "d74d3c35",
   "metadata": {},
   "source": [
    "$\\textbf{Jangan lupa kasih kesimpulan dari visualisasi yang kalian buat! Isi seperti diatas ya}$"
   ]
  },
  {
   "cell_type": "markdown",
   "id": "1165066a",
   "metadata": {},
   "source": [
    "## NO.4\n",
    "\n",
    "## Bagaimana Distribusi dari TotalCharge?\n",
    "\n",
    "Hint:\n",
    "- Ubah datatype TotalCharge dari object ke int atau float\n",
    "- Buat distribusi plot!"
   ]
  },
  {
   "cell_type": "code",
   "execution_count": 36,
   "id": "5bc0e81d",
   "metadata": {},
   "outputs": [
    {
     "data": {
      "text/plain": [
       "dtype('float64')"
      ]
     },
     "execution_count": 36,
     "metadata": {},
     "output_type": "execute_result"
    }
   ],
   "source": [
    "# read your data\n",
    "no_4 = pd.read_csv('telco_customer.csv')\n",
    "\n",
    "#mengubah tipe data TotalCharges\n",
    "no_4['TotalCharges'] = pd.to_numeric(no_4['TotalCharges'], errors='coerce')\n",
    "no_4['TotalCharges'].dtypes"
   ]
  },
  {
   "cell_type": "code",
   "execution_count": 40,
   "id": "942bdc07",
   "metadata": {},
   "outputs": [
    {
     "name": "stdout",
     "output_type": "stream",
     "text": [
      "Setelah di convert, kolom tersebut memiliki 11 missing value\n"
     ]
    }
   ],
   "source": [
    "#cek kelengkapan value pd kolom\n",
    "print('Setelah di convert, kolom tersebut memiliki', no_4['TotalCharges'].isnull().sum(), 'missing value')\n"
   ]
  },
  {
   "cell_type": "code",
   "execution_count": 41,
   "id": "89986fdb",
   "metadata": {},
   "outputs": [],
   "source": [
    "#mengisi missing value dengan fillna dan median\n",
    "\n",
    "no_4['TotalCharges'].fillna(no_4['TotalCharges'].mean(), inplace=True)"
   ]
  },
  {
   "cell_type": "code",
   "execution_count": 42,
   "id": "cfa52de7",
   "metadata": {},
   "outputs": [
    {
     "data": {
      "text/plain": [
       "0"
      ]
     },
     "execution_count": 42,
     "metadata": {},
     "output_type": "execute_result"
    }
   ],
   "source": [
    "#chek kembali missing value pada kolom tersebut, apakah sudah terisi dengan kolom rata rata\n",
    "no_4['TotalCharges'].isnull().sum()"
   ]
  },
  {
   "cell_type": "code",
   "execution_count": 109,
   "id": "9c092c68",
   "metadata": {},
   "outputs": [
    {
     "data": {
      "image/png": "[encoded data removed]",
      "text/plain": [
       "<Figure size 864x576 with 2 Axes>"
      ]
     },
     "metadata": {
      "needs_background": "light"
     },
     "output_type": "display_data"
    }
   ],
   "source": [
    "#plot grafik dari hasil grouping tersebut\n",
    "fig, axes=plt.subplots(2,1,figsize=(12,8), sharex=True)\n",
    "\n",
    "sns.kdeplot(x=no_4['TotalCharges'], ax=axes[0])\n",
    "sns.histplot(x=no_4['TotalCharges'], ax=axes[1])\n",
    "\n",
    "\n",
    "plt.text(x=no_4['TotalCharges'].median(), y=0, s=str(round(no_4['TotalCharges'].median(),1)), fontsize=8)\n",
    "plt.text(x=no_4['TotalCharges'].quantile(0.75)-700, y=0, s=str(round(no_4['TotalCharges'].quantile(0.75),1)), fontsize=8)\n",
    "plt.text(x=no_4['TotalCharges'].quantile(0.25), y=0, s=str(round(no_4['TotalCharges'].quantile(0.25),1)), fontsize=8)\n",
    "plt.text(x=no_4['TotalCharges'].min()-800, y=0, s=str(df['TotalCharges'].min())+'(min)', fontsize=8)\n",
    "plt.text(x=no_4['TotalCharges'].max()+50, y=0, s=str(df['TotalCharges'].max())+'(max)', fontsize=8)\n",
    "\n",
    "list_title=['kde distribution for TotalCharges', 'histogram distribution for TotalCharges']\n",
    "for i in range(len(list_title)):\n",
    "    axes[i].set_title(list_title[i], fontweight='bold')\n",
    "    \n"
   ]
  },
  {
   "cell_type": "markdown",
   "id": "ee5c1e6c",
   "metadata": {},
   "source": [
    "Jadi, dari plot di atas, dapat disimpulkan bahwa distribusi dari Total Charges mengalami penurunan"
   ]
  },
  {
   "cell_type": "markdown",
   "id": "3fb3ec55",
   "metadata": {},
   "source": [
    "$\\textbf{Jangan lupa kasih kesimpulan dari visualisasi yang kalian buat! Isi seperti diatas ya}$"
   ]
  },
  {
   "cell_type": "markdown",
   "id": "73e64400",
   "metadata": {},
   "source": [
    "# Intermediate"
   ]
  },
  {
   "cell_type": "markdown",
   "id": "fe0d0bd1",
   "metadata": {},
   "source": [
    "## NO.5\n",
    "\n",
    "## Apakah customer yang memiliki monthly charges yang tinggi cenderung churn?\n",
    "\n",
    "Hint: dapat ditunjukan melalui distribusi data"
   ]
  },
  {
   "cell_type": "code",
   "execution_count": 63,
   "id": "3bee1efd",
   "metadata": {},
   "outputs": [
    {
     "data": {
      "image/png": "[encoded data removed]",
      "text/plain": [
       "<Figure size 864x864 with 3 Axes>"
      ]
     },
     "metadata": {
      "needs_background": "light"
     },
     "output_type": "display_data"
    }
   ],
   "source": [
    "# your code goes here!\n",
    "no_5 = pd.read_csv('telco_customer.csv')\n",
    "\n",
    "fig, axes=plt.subplots(3,1,figsize=(12,12), sharex=True)\n",
    "sns.kdeplot(data=no_5, hue='Churn', x='MonthlyCharges', fill=True, palette='ch:s=.25,rot=-.25', ax=axes[0])\n",
    "sns.histplot(data=no_5, x='MonthlyCharges', hue='Churn', palette=\"ch:s=.25,rot=-.25\", ax=axes[1])\n",
    "sns.boxplot(x='MonthlyCharges', y='Churn', data=no_5, palette=\"ch:s=.25,rot=-.25\", ax=axes[2])\n",
    "plt.show()"
   ]
  },
  {
   "cell_type": "markdown",
   "id": "e0ecc252",
   "metadata": {},
   "source": [
    "Jadi, dari plot di atas, dapat disimpulkan bahwa customer yang memiliki Monthly Charges yang tinggi tidak cenderung churn"
   ]
  },
  {
   "cell_type": "markdown",
   "id": "805bf08a",
   "metadata": {},
   "source": [
    "$\\textbf{Jangan lupa kasih kesimpulan dari visualisasi yang kalian buat! Isi seperti diatas ya}$"
   ]
  },
  {
   "cell_type": "markdown",
   "id": "704531c5",
   "metadata": {},
   "source": [
    "## NO.6\n",
    "\n",
    "## Bagaimana pengaruh memiliki partner & dependents terhadap tingkat churn customer?\n",
    "\n",
    "Hint: concat partner dan dependents, gunakan parameter 'hue' pada seaborn untuk mempermudah"
   ]
  },
  {
   "cell_type": "code",
   "execution_count": 67,
   "id": "aace7777",
   "metadata": {},
   "outputs": [
    {
     "data": {
      "text/html": [
       "<div>\n",
       "<style scoped>\n",
       "    .dataframe tbody tr th:only-of-type {\n",
       "        vertical-align: middle;\n",
       "    }\n",
       "\n",
       "    .dataframe tbody tr th {\n",
       "        vertical-align: top;\n",
       "    }\n",
       "\n",
       "    .dataframe thead th {\n",
       "        text-align: right;\n",
       "    }\n",
       "</style>\n",
       "<table border=\"1\" class=\"dataframe\">\n",
       "  <thead>\n",
       "    <tr style=\"text-align: right;\">\n",
       "      <th></th>\n",
       "      <th></th>\n",
       "      <th>customerID</th>\n",
       "    </tr>\n",
       "    <tr>\n",
       "      <th>Partner</th>\n",
       "      <th>Dependents</th>\n",
       "      <th></th>\n",
       "    </tr>\n",
       "  </thead>\n",
       "  <tbody>\n",
       "    <tr>\n",
       "      <th rowspan=\"2\" valign=\"top\">No</th>\n",
       "      <th>No</th>\n",
       "      <td>1123</td>\n",
       "    </tr>\n",
       "    <tr>\n",
       "      <th>Yes</th>\n",
       "      <td>77</td>\n",
       "    </tr>\n",
       "    <tr>\n",
       "      <th rowspan=\"2\" valign=\"top\">Yes</th>\n",
       "      <th>No</th>\n",
       "      <td>420</td>\n",
       "    </tr>\n",
       "    <tr>\n",
       "      <th>Yes</th>\n",
       "      <td>249</td>\n",
       "    </tr>\n",
       "  </tbody>\n",
       "</table>\n",
       "</div>"
      ],
      "text/plain": [
       "                    customerID\n",
       "Partner Dependents            \n",
       "No      No                1123\n",
       "        Yes                 77\n",
       "Yes     No                 420\n",
       "        Yes                249"
      ]
     },
     "execution_count": 67,
     "metadata": {},
     "output_type": "execute_result"
    }
   ],
   "source": [
    "# read your data\n",
    "no_6 = pd.read_csv('telco_customer.csv')\n",
    "\n",
    "#filter data cust yg berhenti atau churn = 'Yes'\n",
    "a=no_6['Churn']=='Yes'\n",
    "\n",
    "#group kolom Partner, Dependents\n",
    "group6 = no_6[a].groupby(['Partner', 'Dependents'])[['customerID']].nunique()\n",
    "group6"
   ]
  },
  {
   "cell_type": "code",
   "execution_count": 74,
   "id": "026bb78c",
   "metadata": {},
   "outputs": [
    {
     "data": {
      "text/html": [
       "<div>\n",
       "<style scoped>\n",
       "    .dataframe tbody tr th:only-of-type {\n",
       "        vertical-align: middle;\n",
       "    }\n",
       "\n",
       "    .dataframe tbody tr th {\n",
       "        vertical-align: top;\n",
       "    }\n",
       "\n",
       "    .dataframe thead th {\n",
       "        text-align: right;\n",
       "    }\n",
       "</style>\n",
       "<table border=\"1\" class=\"dataframe\">\n",
       "  <thead>\n",
       "    <tr style=\"text-align: right;\">\n",
       "      <th></th>\n",
       "      <th>Partner</th>\n",
       "      <th>Dependents</th>\n",
       "      <th>customerID</th>\n",
       "      <th>Percentage_Customer</th>\n",
       "    </tr>\n",
       "  </thead>\n",
       "  <tbody>\n",
       "    <tr>\n",
       "      <th>0</th>\n",
       "      <td>No</td>\n",
       "      <td>No</td>\n",
       "      <td>1123</td>\n",
       "      <td>60.09</td>\n",
       "    </tr>\n",
       "    <tr>\n",
       "      <th>1</th>\n",
       "      <td>No</td>\n",
       "      <td>Yes</td>\n",
       "      <td>77</td>\n",
       "      <td>4.12</td>\n",
       "    </tr>\n",
       "    <tr>\n",
       "      <th>2</th>\n",
       "      <td>Yes</td>\n",
       "      <td>No</td>\n",
       "      <td>420</td>\n",
       "      <td>22.47</td>\n",
       "    </tr>\n",
       "    <tr>\n",
       "      <th>3</th>\n",
       "      <td>Yes</td>\n",
       "      <td>Yes</td>\n",
       "      <td>249</td>\n",
       "      <td>13.32</td>\n",
       "    </tr>\n",
       "  </tbody>\n",
       "</table>\n",
       "</div>"
      ],
      "text/plain": [
       "  Partner Dependents  customerID  Percentage_Customer\n",
       "0      No         No        1123                60.09\n",
       "1      No        Yes          77                 4.12\n",
       "2     Yes         No         420                22.47\n",
       "3     Yes        Yes         249                13.32"
      ]
     },
     "execution_count": 74,
     "metadata": {},
     "output_type": "execute_result"
    }
   ],
   "source": [
    "#membuat rasio presentasi dari total customer yg churn tsbt\n",
    "group6['Percentage_Customer']=round(group6['customerID']*100/sum(group6['customerID']), 2)\n",
    "group6 = group6.reset_index()\n",
    "group6"
   ]
  },
  {
   "cell_type": "code",
   "execution_count": 82,
   "id": "1386d5e2",
   "metadata": {},
   "outputs": [
    {
     "data": {
      "image/png": "[encoded data removed]",
      "text/plain": [
       "<Figure size 576x432 with 1 Axes>"
      ]
     },
     "metadata": {
      "needs_background": "light"
     },
     "output_type": "display_data"
    }
   ],
   "source": [
    "fig, axes=plt.subplots(figsize=(8,6))\n",
    "\n",
    "sns.barplot(x = 'Partner', y='Percentage_Customer', data=group6, ax=axes, hue='Dependents')\n",
    "\n",
    "axes.set_ylabel('Amount of Customer')\n",
    "axes.set_xlabel('Partner')\n",
    "axes.set_title('Komposisi Jumlah Customer yang Berhenti berlanggann (Churn) terhadap status Partner dan Dependents ', fontweight='bold')\n",
    "plt.show()"
   ]
  },
  {
   "cell_type": "markdown",
   "id": "80b0b1e7",
   "metadata": {},
   "source": [
    "Jadi, dari plot di atas, dapat disimpulkan bahwa jumlah customer yang berhenti berlangganan yaitu customer yang tidak memiliki pasangan dan memiliki tanggungan. Namun dari data dapat diketahui pula bahwa customer yang tidak memiliki pasangan tapi memiliki tanggungan, customer tersebut cenderung tidak Behenti berlangganan."
   ]
  },
  {
   "cell_type": "markdown",
   "id": "f7770ff9",
   "metadata": {},
   "source": [
    "$\\textbf{Jangan lupa kasih kesimpulan dari visualisasi yang kalian buat! Isi seperti diatas ya}$"
   ]
  },
  {
   "cell_type": "markdown",
   "id": "7594136d",
   "metadata": {},
   "source": [
    "# Soal Hard"
   ]
  },
  {
   "cell_type": "markdown",
   "id": "55a8dd26",
   "metadata": {},
   "source": [
    "## NO.7\n",
    "\n",
    "## Buatlah satu insight dari data telco customer, dan sertakan storyline pada visualisasi tersebut! dengan hanya memanfaatkan atribut PaymentMethod, CustomerID, dan Churn!"
   ]
  },
  {
   "cell_type": "code",
   "execution_count": 65,
   "id": "379bf435",
   "metadata": {},
   "outputs": [],
   "source": [
    "# read your data\n",
    "no_7 = pd.read_csv('telco_customer.csv')"
   ]
  },
  {
   "cell_type": "code",
   "execution_count": 88,
   "id": "3439202b",
   "metadata": {},
   "outputs": [
    {
     "data": {
      "text/html": [
       "<div>\n",
       "<style scoped>\n",
       "    .dataframe tbody tr th:only-of-type {\n",
       "        vertical-align: middle;\n",
       "    }\n",
       "\n",
       "    .dataframe tbody tr th {\n",
       "        vertical-align: top;\n",
       "    }\n",
       "\n",
       "    .dataframe thead th {\n",
       "        text-align: right;\n",
       "    }\n",
       "</style>\n",
       "<table border=\"1\" class=\"dataframe\">\n",
       "  <thead>\n",
       "    <tr style=\"text-align: right;\">\n",
       "      <th></th>\n",
       "      <th></th>\n",
       "      <th>customerID</th>\n",
       "    </tr>\n",
       "    <tr>\n",
       "      <th>Churn</th>\n",
       "      <th>PaymentMethod</th>\n",
       "      <th></th>\n",
       "    </tr>\n",
       "  </thead>\n",
       "  <tbody>\n",
       "    <tr>\n",
       "      <th rowspan=\"4\" valign=\"top\">No</th>\n",
       "      <th>Bank transfer (automatic)</th>\n",
       "      <td>1286</td>\n",
       "    </tr>\n",
       "    <tr>\n",
       "      <th>Credit card (automatic)</th>\n",
       "      <td>1290</td>\n",
       "    </tr>\n",
       "    <tr>\n",
       "      <th>Electronic check</th>\n",
       "      <td>1294</td>\n",
       "    </tr>\n",
       "    <tr>\n",
       "      <th>Mailed check</th>\n",
       "      <td>1304</td>\n",
       "    </tr>\n",
       "  </tbody>\n",
       "</table>\n",
       "</div>"
      ],
      "text/plain": [
       "                                 customerID\n",
       "Churn PaymentMethod                        \n",
       "No    Bank transfer (automatic)        1286\n",
       "      Credit card (automatic)          1290\n",
       "      Electronic check                 1294\n",
       "      Mailed check                     1304"
      ]
     },
     "execution_count": 88,
     "metadata": {},
     "output_type": "execute_result"
    }
   ],
   "source": [
    "#metode PaymentMethod, CustomerID, dan Churn\n",
    "\n",
    "#grouping berdasarkan PaymentMenthod\n",
    "n=df['Churn'] == 'No'\n",
    "group7_no = no_7[n].groupby(['Churn', 'PaymentMethod'])[['customerID']].nunique()\n",
    "group7_no"
   ]
  },
  {
   "cell_type": "code",
   "execution_count": 89,
   "id": "f0e05192",
   "metadata": {},
   "outputs": [
    {
     "data": {
      "text/html": [
       "<div>\n",
       "<style scoped>\n",
       "    .dataframe tbody tr th:only-of-type {\n",
       "        vertical-align: middle;\n",
       "    }\n",
       "\n",
       "    .dataframe tbody tr th {\n",
       "        vertical-align: top;\n",
       "    }\n",
       "\n",
       "    .dataframe thead th {\n",
       "        text-align: right;\n",
       "    }\n",
       "</style>\n",
       "<table border=\"1\" class=\"dataframe\">\n",
       "  <thead>\n",
       "    <tr style=\"text-align: right;\">\n",
       "      <th></th>\n",
       "      <th></th>\n",
       "      <th>customerID</th>\n",
       "      <th>Precentage_Customer</th>\n",
       "    </tr>\n",
       "    <tr>\n",
       "      <th>Churn</th>\n",
       "      <th>PaymentMethod</th>\n",
       "      <th></th>\n",
       "      <th></th>\n",
       "    </tr>\n",
       "  </thead>\n",
       "  <tbody>\n",
       "    <tr>\n",
       "      <th rowspan=\"4\" valign=\"top\">No</th>\n",
       "      <th>Bank transfer (automatic)</th>\n",
       "      <td>1286</td>\n",
       "      <td>24.86</td>\n",
       "    </tr>\n",
       "    <tr>\n",
       "      <th>Credit card (automatic)</th>\n",
       "      <td>1290</td>\n",
       "      <td>24.93</td>\n",
       "    </tr>\n",
       "    <tr>\n",
       "      <th>Electronic check</th>\n",
       "      <td>1294</td>\n",
       "      <td>25.01</td>\n",
       "    </tr>\n",
       "    <tr>\n",
       "      <th>Mailed check</th>\n",
       "      <td>1304</td>\n",
       "      <td>25.20</td>\n",
       "    </tr>\n",
       "  </tbody>\n",
       "</table>\n",
       "</div>"
      ],
      "text/plain": [
       "                                 customerID  Precentage_Customer\n",
       "Churn PaymentMethod                                             \n",
       "No    Bank transfer (automatic)        1286                24.86\n",
       "      Credit card (automatic)          1290                24.93\n",
       "      Electronic check                 1294                25.01\n",
       "      Mailed check                     1304                25.20"
      ]
     },
     "execution_count": 89,
     "metadata": {},
     "output_type": "execute_result"
    }
   ],
   "source": [
    "#menghitung presentase jumlah customer yang tidak berhenti berlangganan di tiap2 paymentMethod\n",
    "group7_no['Precentage_Customer'] = round(group7_no['customerID']*100/sum(group7_no['customerID']), 2)\n",
    "group7_no"
   ]
  },
  {
   "cell_type": "code",
   "execution_count": 91,
   "id": "af3e83cb",
   "metadata": {},
   "outputs": [
    {
     "data": {
      "text/html": [
       "<div>\n",
       "<style scoped>\n",
       "    .dataframe tbody tr th:only-of-type {\n",
       "        vertical-align: middle;\n",
       "    }\n",
       "\n",
       "    .dataframe tbody tr th {\n",
       "        vertical-align: top;\n",
       "    }\n",
       "\n",
       "    .dataframe thead th {\n",
       "        text-align: right;\n",
       "    }\n",
       "</style>\n",
       "<table border=\"1\" class=\"dataframe\">\n",
       "  <thead>\n",
       "    <tr style=\"text-align: right;\">\n",
       "      <th></th>\n",
       "      <th></th>\n",
       "      <th>customerID</th>\n",
       "    </tr>\n",
       "    <tr>\n",
       "      <th>Churn</th>\n",
       "      <th>PaymentMethod</th>\n",
       "      <th></th>\n",
       "    </tr>\n",
       "  </thead>\n",
       "  <tbody>\n",
       "    <tr>\n",
       "      <th rowspan=\"4\" valign=\"top\">Yes</th>\n",
       "      <th>Bank transfer (automatic)</th>\n",
       "      <td>258</td>\n",
       "    </tr>\n",
       "    <tr>\n",
       "      <th>Credit card (automatic)</th>\n",
       "      <td>232</td>\n",
       "    </tr>\n",
       "    <tr>\n",
       "      <th>Electronic check</th>\n",
       "      <td>1071</td>\n",
       "    </tr>\n",
       "    <tr>\n",
       "      <th>Mailed check</th>\n",
       "      <td>308</td>\n",
       "    </tr>\n",
       "  </tbody>\n",
       "</table>\n",
       "</div>"
      ],
      "text/plain": [
       "                                 customerID\n",
       "Churn PaymentMethod                        \n",
       "Yes   Bank transfer (automatic)         258\n",
       "      Credit card (automatic)           232\n",
       "      Electronic check                 1071\n",
       "      Mailed check                      308"
      ]
     },
     "execution_count": 91,
     "metadata": {},
     "output_type": "execute_result"
    }
   ],
   "source": [
    "#kelompokkan customer berdasarkan payment method dan yang nilai churn == 'NO' untuk menghitung jumlah customer pada setiap kelompok metode pembayaran\n",
    "x=no_7['Churn'] == 'Yes'\n",
    "group7_yes = no_7[x].groupby(['Churn', 'PaymentMethod'])[['customerID']].nunique()\n",
    "group7_yes"
   ]
  },
  {
   "cell_type": "code",
   "execution_count": 92,
   "id": "fdf17cef",
   "metadata": {},
   "outputs": [
    {
     "data": {
      "text/html": [
       "<div>\n",
       "<style scoped>\n",
       "    .dataframe tbody tr th:only-of-type {\n",
       "        vertical-align: middle;\n",
       "    }\n",
       "\n",
       "    .dataframe tbody tr th {\n",
       "        vertical-align: top;\n",
       "    }\n",
       "\n",
       "    .dataframe thead th {\n",
       "        text-align: right;\n",
       "    }\n",
       "</style>\n",
       "<table border=\"1\" class=\"dataframe\">\n",
       "  <thead>\n",
       "    <tr style=\"text-align: right;\">\n",
       "      <th></th>\n",
       "      <th></th>\n",
       "      <th>customerID</th>\n",
       "      <th>Precentage_Customer</th>\n",
       "    </tr>\n",
       "    <tr>\n",
       "      <th>Churn</th>\n",
       "      <th>PaymentMethod</th>\n",
       "      <th></th>\n",
       "      <th></th>\n",
       "    </tr>\n",
       "  </thead>\n",
       "  <tbody>\n",
       "    <tr>\n",
       "      <th rowspan=\"4\" valign=\"top\">Yes</th>\n",
       "      <th>Bank transfer (automatic)</th>\n",
       "      <td>258</td>\n",
       "      <td>13.80</td>\n",
       "    </tr>\n",
       "    <tr>\n",
       "      <th>Credit card (automatic)</th>\n",
       "      <td>232</td>\n",
       "      <td>12.41</td>\n",
       "    </tr>\n",
       "    <tr>\n",
       "      <th>Electronic check</th>\n",
       "      <td>1071</td>\n",
       "      <td>57.30</td>\n",
       "    </tr>\n",
       "    <tr>\n",
       "      <th>Mailed check</th>\n",
       "      <td>308</td>\n",
       "      <td>16.48</td>\n",
       "    </tr>\n",
       "  </tbody>\n",
       "</table>\n",
       "</div>"
      ],
      "text/plain": [
       "                                 customerID  Precentage_Customer\n",
       "Churn PaymentMethod                                             \n",
       "Yes   Bank transfer (automatic)         258                13.80\n",
       "      Credit card (automatic)           232                12.41\n",
       "      Electronic check                 1071                57.30\n",
       "      Mailed check                      308                16.48"
      ]
     },
     "execution_count": 92,
     "metadata": {},
     "output_type": "execute_result"
    }
   ],
   "source": [
    "#mengitung presentase jumlah customer yang berhenti berlanggganna pada setiap kelompok metode pembayaran\n",
    "group7_yes['Precentage_Customer']=round(group7_yes['customerID']*100/sum(group7_yes['customerID']), 2)\n",
    "group7_yes"
   ]
  },
  {
   "cell_type": "code",
   "execution_count": 93,
   "id": "94aaeda8",
   "metadata": {},
   "outputs": [
    {
     "data": {
      "text/html": [
       "<div>\n",
       "<style scoped>\n",
       "    .dataframe tbody tr th:only-of-type {\n",
       "        vertical-align: middle;\n",
       "    }\n",
       "\n",
       "    .dataframe tbody tr th {\n",
       "        vertical-align: top;\n",
       "    }\n",
       "\n",
       "    .dataframe thead th {\n",
       "        text-align: right;\n",
       "    }\n",
       "</style>\n",
       "<table border=\"1\" class=\"dataframe\">\n",
       "  <thead>\n",
       "    <tr style=\"text-align: right;\">\n",
       "      <th></th>\n",
       "      <th></th>\n",
       "      <th>customerID</th>\n",
       "      <th>Precentage_Customer</th>\n",
       "    </tr>\n",
       "    <tr>\n",
       "      <th>Churn</th>\n",
       "      <th>PaymentMethod</th>\n",
       "      <th></th>\n",
       "      <th></th>\n",
       "    </tr>\n",
       "  </thead>\n",
       "  <tbody>\n",
       "    <tr>\n",
       "      <th rowspan=\"4\" valign=\"top\">No</th>\n",
       "      <th>Bank transfer (automatic)</th>\n",
       "      <td>1286</td>\n",
       "      <td>24.86</td>\n",
       "    </tr>\n",
       "    <tr>\n",
       "      <th>Credit card (automatic)</th>\n",
       "      <td>1290</td>\n",
       "      <td>24.93</td>\n",
       "    </tr>\n",
       "    <tr>\n",
       "      <th>Electronic check</th>\n",
       "      <td>1294</td>\n",
       "      <td>25.01</td>\n",
       "    </tr>\n",
       "    <tr>\n",
       "      <th>Mailed check</th>\n",
       "      <td>1304</td>\n",
       "      <td>25.20</td>\n",
       "    </tr>\n",
       "    <tr>\n",
       "      <th rowspan=\"4\" valign=\"top\">Yes</th>\n",
       "      <th>Bank transfer (automatic)</th>\n",
       "      <td>258</td>\n",
       "      <td>13.80</td>\n",
       "    </tr>\n",
       "    <tr>\n",
       "      <th>Credit card (automatic)</th>\n",
       "      <td>232</td>\n",
       "      <td>12.41</td>\n",
       "    </tr>\n",
       "    <tr>\n",
       "      <th>Electronic check</th>\n",
       "      <td>1071</td>\n",
       "      <td>57.30</td>\n",
       "    </tr>\n",
       "    <tr>\n",
       "      <th>Mailed check</th>\n",
       "      <td>308</td>\n",
       "      <td>16.48</td>\n",
       "    </tr>\n",
       "  </tbody>\n",
       "</table>\n",
       "</div>"
      ],
      "text/plain": [
       "                                 customerID  Precentage_Customer\n",
       "Churn PaymentMethod                                             \n",
       "No    Bank transfer (automatic)        1286                24.86\n",
       "      Credit card (automatic)          1290                24.93\n",
       "      Electronic check                 1294                25.01\n",
       "      Mailed check                     1304                25.20\n",
       "Yes   Bank transfer (automatic)         258                13.80\n",
       "      Credit card (automatic)           232                12.41\n",
       "      Electronic check                 1071                57.30\n",
       "      Mailed check                      308                16.48"
      ]
     },
     "execution_count": 93,
     "metadata": {},
     "output_type": "execute_result"
    }
   ],
   "source": [
    "#append hasil kedua grouping di atas ke dalam dataframe no_7\n",
    "append = group7_no.append(group7_yes)\n",
    "append"
   ]
  },
  {
   "cell_type": "code",
   "execution_count": 95,
   "id": "35e4b474",
   "metadata": {},
   "outputs": [
    {
     "data": {
      "text/html": [
       "<div>\n",
       "<style scoped>\n",
       "    .dataframe tbody tr th:only-of-type {\n",
       "        vertical-align: middle;\n",
       "    }\n",
       "\n",
       "    .dataframe tbody tr th {\n",
       "        vertical-align: top;\n",
       "    }\n",
       "\n",
       "    .dataframe thead th {\n",
       "        text-align: right;\n",
       "    }\n",
       "</style>\n",
       "<table border=\"1\" class=\"dataframe\">\n",
       "  <thead>\n",
       "    <tr style=\"text-align: right;\">\n",
       "      <th>PaymentMethod</th>\n",
       "      <th>Bank transfer (automatic)</th>\n",
       "      <th>Credit card (automatic)</th>\n",
       "      <th>Electronic check</th>\n",
       "      <th>Mailed check</th>\n",
       "    </tr>\n",
       "    <tr>\n",
       "      <th>Churn</th>\n",
       "      <th></th>\n",
       "      <th></th>\n",
       "      <th></th>\n",
       "      <th></th>\n",
       "    </tr>\n",
       "  </thead>\n",
       "  <tbody>\n",
       "    <tr>\n",
       "      <th>No</th>\n",
       "      <td>1286</td>\n",
       "      <td>1290</td>\n",
       "      <td>1294</td>\n",
       "      <td>1304</td>\n",
       "    </tr>\n",
       "    <tr>\n",
       "      <th>Yes</th>\n",
       "      <td>258</td>\n",
       "      <td>232</td>\n",
       "      <td>1071</td>\n",
       "      <td>308</td>\n",
       "    </tr>\n",
       "  </tbody>\n",
       "</table>\n",
       "</div>"
      ],
      "text/plain": [
       "PaymentMethod  Bank transfer (automatic)  Credit card (automatic)  \\\n",
       "Churn                                                               \n",
       "No                                  1286                     1290   \n",
       "Yes                                  258                      232   \n",
       "\n",
       "PaymentMethod  Electronic check  Mailed check  \n",
       "Churn                                          \n",
       "No                         1294          1304  \n",
       "Yes                        1071           308  "
      ]
     },
     "execution_count": 95,
     "metadata": {},
     "output_type": "execute_result"
    }
   ],
   "source": [
    "#pivot tabel pertama untuk kolom index churn, kolom payment method, dan values customer ID\n",
    "\n",
    "append_piv = append.pivot_table(columns='PaymentMethod', index='Churn', values='customerID')\n",
    "append_piv"
   ]
  },
  {
   "cell_type": "code",
   "execution_count": 96,
   "id": "d4df8919",
   "metadata": {},
   "outputs": [
    {
     "data": {
      "image/png": "[encoded data removed]",
      "text/plain": [
       "<Figure size 432x288 with 1 Axes>"
      ]
     },
     "metadata": {
      "needs_background": "light"
     },
     "output_type": "display_data"
    }
   ],
   "source": [
    "append_piv.plot(kind='bar');"
   ]
  }
 ],
 "metadata": {
  "kernelspec": {
   "display_name": "Python 3",
   "language": "python",
   "name": "python3"
  },
  "language_info": {
   "codemirror_mode": {
    "name": "ipython",
    "version": 3
   },
   "file_extension": ".py",
   "mimetype": "text/x-python",
   "name": "python",
   "nbconvert_exporter": "python",
   "pygments_lexer": "ipython3",
   "version": "3.8.8"
  }
 },
 "nbformat": 4,
 "nbformat_minor": 5
}
