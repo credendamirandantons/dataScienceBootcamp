{
 "cells": [
  {
   "cell_type": "markdown",
   "metadata": {
    "heading_collapsed": true,
    "id": "IQZPHNVGE0jj"
   },
   "source": [
    "# Homework Introduction to Python"
   ]
  },
  {
   "cell_type": "markdown",
   "metadata": {
    "hidden": true,
    "id": "yKMR8ypqE0jn"
   },
   "source": [
    "$\\textbf{Ubah nama di bawah yaa!}$"
   ]
  },
  {
   "cell_type": "markdown",
   "metadata": {
    "hidden": true,
    "id": "bQ7VJlKEE0jo"
   },
   "source": [
    "- Nama: Credenda Mirandantons\n",
    "- IPK : 3.25 "
   ]
  },
  {
   "cell_type": "code",
   "execution_count": 19,
   "metadata": {
    "ExecuteTime": {
     "end_time": "2020-11-12T13:26:22.209983Z",
     "start_time": "2020-11-12T13:26:21.360470Z"
    },
    "hidden": true,
    "id": "4g2oLkevE0jo"
   },
   "outputs": [],
   "source": [
    "import numpy as np\n",
    "\n",
    "# please import as much as you need"
   ]
  },
  {
   "cell_type": "markdown",
   "metadata": {
    "id": "cgd-tTOjE0jr"
   },
   "source": [
    "# Normal"
   ]
  },
  {
   "cell_type": "markdown",
   "metadata": {
    "heading_collapsed": true,
    "id": "ed8OiWGeE0jr"
   },
   "source": [
    "## 1. Operasi Variabel\n",
    "\n",
    "> Misal kita memiliki toko sepatu. Modal membeli 1 kodi sepatu adalah Rp 1.000.000. Setiap sepatu dijual seharga Rp 80.000. Buatlah variabel modal, kuantitas, dan harga_jual sesuai informasi di atas. Hitung profit yang didapatkan jika semua sepatu berhasil terjual, dan masukkan ke variabel profit.\n",
    "\n",
    "Saran langkah-langkah pengerjaan\n",
    "1. Convert terlebih dahulu kodi dalam jumlah barang (1 kodi = xyz buah sepatu)\n",
    "2. Gunakan operasi matematika sederhana untuk menghitung profit menggunakan tiga buah variabel yang sudah ditentukan"
   ]
  },
  {
   "cell_type": "code",
   "execution_count": null,
   "metadata": {
    "ExecuteTime": {
     "end_time": "2021-10-23T10:20:16.843127Z",
     "start_time": "2021-10-23T10:20:16.835236Z"
    },
    "hidden": true,
    "id": "ThOB9tEME0js",
    "scrolled": true
   },
   "outputs": [],
   "source": [
    "# your code goes here!\n",
    "\n",
    "modal 1kodi(20 buah) sepatu = 1000000\n",
    "1 sepatu = 80000\n",
    "variable - modal\n",
    "         - kuantitas\n",
    "         - harga_jual\n",
    "profit(keuntungan) yang didapatkan apabila sepatu terjual semua dan masukan ke dalam variabel profit"
   ]
  },
  {
   "cell_type": "code",
   "execution_count": 5,
   "metadata": {},
   "outputs": [
    {
     "name": "stdout",
     "output_type": "stream",
     "text": [
      "profit yang didapati =  600000\n"
     ]
    }
   ],
   "source": [
    "modal = 1000000\n",
    "kuantitas = 20\n",
    "harga_jual = 80000\n",
    "\n",
    "barang_terjual = harga_jual * kuantitas\n",
    "\n",
    "profit = barang_terjual - modal \n",
    "print('profit yang didapati = ', profit) #keuntungan bersi h"
   ]
  },
  {
   "cell_type": "markdown",
   "metadata": {
    "hidden": true,
    "id": "8GaDbS89E0js"
   },
   "source": [
    "Jadi, dari profit di atas, dapat disimpulkan bahwa..."
   ]
  },
  {
   "cell_type": "markdown",
   "metadata": {
    "id": "5oTZCAI4E0ju"
   },
   "source": [
    "## 2. Package Python dan Dictionary\n",
    "\n",
    "> Kita akan coba mengakses data scientific article dari PLOS corpus\n",
    "    Menggunakan API request dengan kode berikut : \n",
    "```\n",
    "import requests\n",
    "response = requests.get('http://api.plos.org/search?q=title:\"Drosophila\" AND body:\"RNA\"&fl=id,abstract')\n",
    "```\n",
    "**perhatikan tanda kutipnya tidak salah ketika meng-copy ke dalam python\n",
    "\n",
    "Pertanyaannya : \n",
    "Convert response.content dari request tersebut dari JSON Format ke dalam Dictionary, dan print-kan key di dalamnya apa saja\n",
    "\n",
    "Saran langkah-langkah pengerjaan\n",
    "1. Ikuti code dari soal, kemudian ekstrak value dari variable response menggunakan dot (.) content menjadi sebuah variabel baru (dictionary)\n",
    "2. Gunakan library json, convert hasil content menggunakan json.loads\n",
    "3. Print keys dari dictionary tersebut\n"
   ]
  },
  {
   "cell_type": "code",
   "execution_count": 3,
   "metadata": {
    "ExecuteTime": {
     "end_time": "2021-10-23T10:20:40.890513Z",
     "start_time": "2021-10-23T10:20:40.882963Z"
    },
    "id": "RY1kdZAUE0ju"
   },
   "outputs": [
    {
     "name": "stdout",
     "output_type": "stream",
     "text": [
      "<Response [200]>\n"
     ]
    },
    {
     "data": {
      "text/plain": [
       "b'{\\n  \"response\":{\"numFound\":1446,\"start\":0,\"docs\":[\\n      {\\n        \"id\":\"10.1371/journal.pone.0026564\",\\n        \"abstract\":[\"\\\\n        Little is known about the viruses infecting most species. Even in groups as well-studied as Drosophila, only a handful of viruses have been well-characterized. A viral metagenomic approach was used to explore viral diversity in 83 wild-caught Drosophila innubila, a mushroom feeding member of the quinaria group. A single fly that was injected with, and died from, Drosophila C Virus (DCV) was added to the sample as a control. Two-thirds of reads in the infected sample had DCV as the best BLAST hit, suggesting that the protocol developed is highly sensitive. In addition to the DCV hits, several sequences had Oryctes rhinoceros Nudivirus, a double-stranded DNA virus, as a best BLAST hit. The virus associated with these sequences was termed Drosophila innubila Nudivirus (DiNV). PCR screens of natural populations showed that DiNV was both common and widespread taxonomically and geographically. Electron microscopy confirms the presence of virions in fly fecal material similar in structure to other described Nudiviruses. In 2 species, D. innubila and D. falleni, the virus is associated with a severe (\\xe2\\x88\\xbc80\\xe2\\x80\\x9390%) loss of fecundity and significantly decreased lifespan.\\\\n      \"]},\\n      {\\n        \"id\":\"10.1371/journal.pone.0188133\",\\n        \"abstract\":[\"\\\\nImmune challenges, such as parasitism, can be so pervasive and deleterious that they constitute an existential threat to a species\\xe2\\x80\\x99 survival. In response to these ecological pressures, organisms have developed a wide array of novel behavioral, cellular, and molecular adaptations. Research into these immune defenses in model systems has resulted in a revolutionary understanding of evolution and functional biology. As the field has expanded beyond the limited number of model organisms our appreciation of evolutionary innovation and unique biology has widened as well. With this in mind, we have surveyed the hemolymph of several non-model species of Drosophila. Here we identify and describe a novel hemocyte, type-II nematocytes, found in larval stages of numerous Drosophila species. Examined in detail in Drosophila falleni and Drosophila phalerata, we find that these remarkable cells are distinct from previously described hemocytes due to their anucleate state (lacking a nucleus) and unusual morphology. Type-II nematocytes are long, narrow cells with spindle-like projections extending from a cell body with high densities of mitochondria and microtubules, and exhibit the ability to synthesize proteins. These properties are unexpected for enucleated cells, and together with our additional characterization, we demonstrate that these type-II nematocytes represent a biological novelty. Surprisingly, despite the absence of a nucleus, we observe through live cell imaging that these cells remain motile with a highly dynamic cellular shape. Furthermore, these cells demonstrate the ability to form multicellular structures, which we suggest may be a component of the innate immune response to macro-parasites. In addition, live cell imaging points to a large nucleated hemocyte, type-I nematocyte, as the progenitor cell, leading to enucleation through a budding or asymmetrical division process rather than nuclear ejection: This study is the first to report such a process of enucleation. Here we describe these cells in detail for the first time and examine their evolutionary history in Drosophila.\\\\n\"]},\\n      {\\n        \"id\":\"10.1371/journal.pbio.1000320\",\\n        \"abstract\":[\"\\\\nAnalysis of the relationship between gene copy number and gene expression in aneuploid male Drosophila cells reveals a global compensation mechanism in addition to X chromosome-specific dosage compensation.\\\\n\\\\nExtensive departures from balanced gene dose in aneuploids are highly deleterious. However, we know very little about the relationship between gene copy number and expression in aneuploid cells. We determined copy number and transcript abundance (expression) genome-wide in Drosophila S2 cells by DNA-Seq and RNA-Seq. We found that S2 cells are aneuploid for >43 Mb of the genome, primarily in the range of one to five copies, and show a male genotype (\\xe2\\x88\\xbc two X chromosomes and four sets of autosomes, or 2X;4A). Both X chromosomes and autosomes showed expression dosage compensation. X chromosome expression was elevated in a fixed-fold manner regardless of actual gene dose. In engineering terms, the system \\xe2\\x80\\x9canticipates\\xe2\\x80\\x9d the perturbation caused by X dose, rather than responding to an error caused by the perturbation. This feed-forward regulation resulted in precise dosage compensation only when X dose was half of the autosome dose. Insufficient compensation occurred at lower X chromosome dose and excessive expression occurred at higher doses. RNAi knockdown of the Male Specific Lethal complex abolished feed-forward regulation. Both autosome and X chromosome genes show Male Specific Lethal\\xe2\\x80\\x93independent compensation that fits a first order dose-response curve. Our data indicate that expression dosage compensation dampens the effect of altered DNA copy number genome-wide. For the X chromosome, compensation includes fixed and dose-dependent components.\\\\nAuthor Summary: While it is widely recognized that mutations in protein coding genes can have harmful consequences, one can also have too much or too little of a good thing. Except for the sex chromosomes, genes come in sets of two in diploid organisms. Extra or missing copies of genes or chromosomes result in an imbalance that can lead to cancers, miscarriages, and disease susceptibility. We have examined what happens to gene expression in Drosophila cells with the types of gross copy number changes that are typical of cancers. We have compared the response of autosomes and sex chromosomes and show that there is some compensation for copy number change in both cases. One response is universal and acts to correct copy number changes by changing transcript abundance. The other is specific to the X chromosome and acts to increase expression regardless of gene dose. Our data highlight how important gene expression balance is for cell function. \"]},\\n      {\\n        \"id\":\"10.1371/journal.pbio.0000060\",\\n        \"abstract\":[\"\\\\n        MicroRNAs (miRNAs) are short RNA molecules that regulate gene expression by binding to target messenger RNAs and by controlling protein production or causing RNA cleavage. To date, functions have been assigned to only a few of the hundreds of identified miRNAs, in part because of the difficulty in identifying their targets. The short length of miRNAs and the fact that their complementarity to target sequences is imperfect mean that target identification in animal genomes is not possible by standard sequence comparison methods. Here we screen conserved 3\\xe2\\x80\\xb2 UTR sequences from the Drosophila melanogaster genome for potential miRNA targets. The screening procedure combines a sequence search with an evaluation of the predicted miRNA\\xe2\\x80\\x93target heteroduplex structures and energies. We show that this approach successfully identifies the five previously validated let-7, lin-4, and bantam targets from a large database and predict new targets for Drosophila miRNAs. Our target predictions reveal striking clusters of functionally related targets among the top predictions for specific miRNAs. These include Notch target genes for miR-7, proapoptotic genes for the miR-2 family, and enzymes from a metabolic pathway for miR-277. We experimentally verified three predicted targets each for miR-7 and the miR-2 family, doubling the number of validated targets for animal miRNAs. Statistical analysis indicates that the best single predicted target sites are at the border of significance; thus, target predictions should be considered as tentative until experimentally validated. We identify features shared by all validated targets that can be used to evaluate target predictions for animal miRNAs. Our initial evaluation and experimental validation of target predictions suggest functions for two miRNAs. For others, the screen suggests plausible functions, such as a role for miR-277 as a metabolic switch controlling amino acid catabolism. Cross-genome comparison proved essential, as it allows reduction of the sequence search space. Improvements in genome annotation and increased availability of cDNA sequences from other genomes will allow more sensitive screens. An increase in the number of confirmed targets is expected to reveal general structural features that can be used to improve their detection. While the screen is likely to miss some targets, our study shows that valid targets can be identified from sequence alone.\\\\n      \\\\n        A bioinformatic approach suggests many new target genes for Drosophila microRNAs. A number of them are validated experimentally.\\\\n      \"]},\\n      {\\n        \"id\":\"10.1371/journal.pone.0001265\",\\n        \"abstract\":[\"MicroRNAs (miRNAs) are small non-coding RNAs with important regulatory roles in post-transcriptional regulation of metazoan development, homeostasis and disease. The full set of miRNAs is not known for any species and it is believed that many await discovery. The recent assembly of 15 insect genomes has provided the opportunity to identify novel miRNAs in the fruit fly, Drosophila melanogaster. We have performed a computational screen for novel microRNAs in Drosophila melanogaster by searching for phylogenetically conserved putative pre-miRNA structures. The ability of predicted novel miRNA precursors to be processed to produce miRNAs was experimentally verified in S2 cells and in several cases their endogenous expression at was validated by Northern blots. After experimental validation, the predictions were cross-checked with reference to a newly released set of small RNA sequences. Combining both datasets allowed us to identify 53 novel miRNA loci in the fruit fly genome 22 of which we had predicted computationally. This significantly expands the set of known miRNAs in Drosophila melanogaster. Most novel miRNAs contain unique seed sequences not found in other Drosophila miRNAs and are therefore expected to regulate novel sets of target genes. This data provides the basis for future genetic analysis of miRNA function and will aid the discovery of orthologous sequences in other species.\"]},\\n      {\\n        \"id\":\"10.1371/journal.pgen.1002593\",\\n        \"abstract\":[\"\\\\n        Phenotypic plasticity is the ability of a single genotype to produce different phenotypes in response to changing environments. We assessed variation in genome-wide gene expression and four fitness-related phenotypes of an outbred Drosophila melanogaster population under 20 different physiological, social, nutritional, chemical, and physical environments; and we compared the phenotypically plastic transcripts to genetically variable transcripts in a single environment. The environmentally sensitive transcriptome consists of two transcript categories, which comprise \\xe2\\x88\\xbc15% of expressed transcripts. Class I transcripts are genetically variable and associated with detoxification, metabolism, proteolysis, heat shock proteins, and transcriptional regulation. Class II transcripts have low genetic variance and show sexually dimorphic expression enriched for reproductive functions. Clustering analysis of Class I transcripts reveals a fragmented modular organization and distinct environmentally responsive transcriptional signatures for the four fitness-related traits. Our analysis suggests that a restricted environmentally responsive segment of the transcriptome preserves the balance between phenotypic plasticity and environmental canalization.\\\\n      Author Summary: Unlike Mendelian traits, where the genotype allows a direct prediction of the phenotype, predicting phenotypic values is not straightforward for complex traits, which arise from multiple segregating genes and their interactions with the environment. Here, a single genotype can often express different phenotypes in different environments. Such phenotypic plasticity is the counterpoint to \\xe2\\x80\\x9cenvironmental canalization,\\xe2\\x80\\x9d whereby genotypes produce the same phenotype in different environments. Whereas phenotypic plasticity allows organisms to respond rapidly to changing environments, environmental canalization buffers phenotypes against environmental perturbations. The balance between plasticity and robustness is crucial for optimal fitness, but the genetic basis for phenotypic plasticity is poorly defined. Here, we present the most comprehensive analysis to date of variation in genome-wide gene expression of an outbred Drosophila melanogaster population under 20 different environments. We find that a restricted environmentally responsive segment of the transcriptome (\\xe2\\x88\\xbc15%) preserves the balance between phenotypic plasticity and environmental canalization. Environmentally plastic transcripts can be grouped into two categories. Class I transcripts are genetically variable and associated with detoxification, metabolism, proteolysis, heat shock proteins, and transcriptional regulation. Class II transcripts have low genetic variance and show sexually dimorphic expression enriched for reproductive functions. Despite low genetic variance these transcripts evolve rapidly. \"]},\\n      {\\n        \"id\":\"10.1371/journal.pcbi.1000026\",\\n        \"abstract\":[\"Drosophila Pumilio (Pum) protein is a translational regulator involved in embryonic patterning and germline development. Recent findings demonstrate that Pum also plays an important role in the nervous system, both at the neuromuscular junction (NMJ) and in long-term memory formation. In neurons, Pum appears to play a role in homeostatic control of excitability via down regulation of para, a voltage gated sodium channel, and may more generally modulate local protein synthesis in neurons via translational repression of eIF-4E. Aside from these, the biologically relevant targets of Pum in the nervous system remain largely unknown. We hypothesized that Pum might play a role in regulating the local translation underlying synapse-specific modifications during memory formation. To identify relevant translational targets, we used an informatics approach to predict Pum targets among mRNAs whose products have synaptic localization. We then used both in vitro binding and two in vivo assays to functionally confirm the fidelity of this informatics screening method. We find that Pum strongly and specifically binds to RNA sequences in the 3\\xe2\\x80\\xb2UTR of four of the predicted target genes, demonstrating the validity of our method. We then demonstrate that one of these predicted target sequences, in the 3\\xe2\\x80\\xb2UTR of discs large (dlg1), the Drosophila PSD95 ortholog, can functionally substitute for a canonical NRE (Nanos response element) in vivo in a heterologous functional assay. Finally, we show that the endogenous dlg1 mRNA can be regulated by Pumilio in a neuronal context, the adult mushroom bodies (MB), which is an anatomical site of memory storage.Author Summary: The Drosophila Pumilio (Pum) protein was originally identified as a translational control factor for embryo patterning. Subsequent studies have identified Pum\\'s role in multiple biological processes, including the maintenance of germline stem cell, the proliferation and migration of primordial germ cells, olfactory leaning and memory, and synaptic plasticity. Pum is highly conserved across phyla, i.e., from worm to human; however, the mRNA targets of Pum within each tissue and organism are largely unknown. On the other hand, the prediction of RNA binding sites remains a hard question in the computational field. We were interested in finding Pum targets in the nervous system using fruit flies as a model organism. To accomplish this, we used the few Pum binding sequences that had previously been shown in vivo as \\xe2\\x80\\x9ctraining sequences\\xe2\\x80\\x9d to construct bioinformatic models of the Pum binding site. We then predicted a few Pum mRNA targets among the genes known to function in neuronal synapses. We then used a combination of \\xe2\\x80\\x9cgolden standards\\xe2\\x80\\x9d to verify these predictions: a biochemical assay called gel shifts, and in vivo functional assays both in embryo and neurons. With these approaches, we successfully confirmed one of the targets as Dlg, which is the Drosophila ortholog of human PSD95. Therefore, we present a complete story from computational study to real biological functions. \"]},\\n      {\\n        \"id\":\"10.1371/journal.pgen.1009790\",\\n        \"abstract\":[\"\\\\nRecent studies have demonstrated that astrocytes cooperate with neurons of the brain to mediate circadian control of many rhythmic processes including locomotor activity and sleep. Transcriptional profiling studies have described the overall rhythmic landscape of the brain, but few have employed approaches that reveal heterogeneous, cell-type specific rhythms of the brain. Using cell-specific isolation of ribosome-bound RNAs in Drosophila, we constructed the first circadian \\xe2\\x80\\x9ctranslatome\\xe2\\x80\\x9d for astrocytes. This analysis identified 293 \\xe2\\x80\\x9ccycling genes\\xe2\\x80\\x9d in astrocytes, most with mammalian orthologs. A subsequent behavioral genetic screen identified a number of genes whose expression is required in astrocytes for normal sleep behavior. In particular, we show that certain genes known to regulate fly innate immune responses are also required for normal sleep patterns.\\\\n\"]},\\n      {\\n        \"id\":\"10.1371/journal.pgen.1009702\",\\n        \"abstract\":[\"\"]},\\n      {\\n        \"id\":\"10.1371/journal.pone.0012421\",\\n        \"abstract\":[\"Background: The Drosophila C virus (DCV) is a common and well-studied Drosophila pathogen. Although natural infections are known from Drosophila melanogaster and D. simulans, and artificial infections have been reported from several Drosophila species and other insects, it remains unclear to date whether DCV infections also occur naturally in other Drosophila species. Methods/Principal Findings: Using reverse transcription PCR, we detected natural infections in six Drosophila species, which have not been previously known as natural hosts. By subsequent Sanger sequencing we compared DCV haplotypes among eight Drosophila host species. Our data suggest that cross-infections might be frequent both within and among species within the laboratory environment. Moreover, we find that some lines exhibit multiple infections with distinct DCV haplotypes. Conclusions: Our results suggest that the natural host range of DCV is much broader than previously assumed and that cross-infections might be a common phenomenon in the laboratory, even among different Drosophila hosts. \"]}]\\n  }}\\n'"
      ]
     },
     "execution_count": 3,
     "metadata": {},
     "output_type": "execute_result"
    }
   ],
   "source": [
    "# your code goes here!\n",
    "import requests\n",
    "response = requests.get('http://api.plos.org/search?q=title:\"Drosophila\" AND body:\"RNA\"&fl=id,abstract')\n",
    "print(response)\n",
    "\n",
    "dataset = response.content\n",
    "dataset"
   ]
  },
  {
   "cell_type": "code",
   "execution_count": 27,
   "metadata": {
    "scrolled": false
   },
   "outputs": [],
   "source": [
    "import json\n",
    "df = json.loads(dataset)"
   ]
  },
  {
   "cell_type": "code",
   "execution_count": 31,
   "metadata": {},
   "outputs": [
    {
     "name": "stdout",
     "output_type": "stream",
     "text": [
      "dict_keys(['response'])\n",
      "dict_keys(['numFound', 'start', 'docs'])\n"
     ]
    }
   ],
   "source": [
    "import json\n",
    "df = json.loads(dataset)\n",
    "df.keys()\n",
    "print(df.keys())\n",
    "print(df['response'].keys())\n",
    "\n"
   ]
  },
  {
   "cell_type": "markdown",
   "metadata": {
    "id": "rvQnd_NgE0jv"
   },
   "source": [
    "Jadi, dari url link di atas, kami menyimpulkan bahwa memiliki keys ..."
   ]
  },
  {
   "cell_type": "markdown",
   "metadata": {
    "id": "wWstgpwIPDwR"
   },
   "source": [
    "# Intermediate"
   ]
  },
  {
   "cell_type": "markdown",
   "metadata": {
    "id": "AI0lJNgDE0jv"
   },
   "source": [
    "## 3. Operasi dalam List\n",
    "\n",
    "> Buatlah list dengan 10 nama kota di indonesia, kemudian:\n",
    "1. Urutkan nama kota di dalam list berdasarkan abjad (a)\n",
    "2. Ambil 4 kota pertama dari list tersebut (yang telah diurutkan) (b)\n",
    "3. Ambil 3 kota terakhir dari list tersebut (yang telah diurutkan) (c)\n",
    "\n",
    "Saran langkah-langkah pengerjaan\n",
    "1. Tidak ada ketentuan nama kota (misal berdasarkan provinsi X atau pulau Y), dibebaskan untuk memilih. Buat nama-nama kota tersebut dalam sebuah list.\n",
    "2. Gunakan fungsi sorted(X) untuk mengurutkan secara kecil-ke-besar (sesuai abjad), dimana X adalah contoh variabel list pada langkah (a)\n",
    "3. Gunakan hasil poin (a), urutkan nama kota di dalam list berdasarkan abjad, untuk mengerjakan poin (b) dan (c). "
   ]
  },
  {
   "cell_type": "code",
   "execution_count": 12,
   "metadata": {
    "ExecuteTime": {
     "end_time": "2021-10-23T10:20:47.306584Z",
     "start_time": "2021-10-23T10:20:47.299827Z"
    },
    "id": "piGxWfIAE0jw",
    "scrolled": true
   },
   "outputs": [
    {
     "name": "stdout",
     "output_type": "stream",
     "text": [
      "> nama kota di dalam list berdasarkan abjad =  ['Aceh', 'Ambon', 'Bandung', 'Bekasi', 'Cilegon', 'Jakarta', 'Medan', 'Palu', 'Pematangsiantar', 'Surabaya']\n",
      "> 4 kota pertama dari list tersebut (yang telah diurutkan)  =  ['Jakarta', 'Surabaya', 'Medan', 'Bekasi']\n",
      "> 3 kota terakhir dari list tersebut (yang telah diurutkan) =  ['Cilegon', 'Palu', 'Pematangsiantar']\n"
     ]
    }
   ],
   "source": [
    "# your code goes here!\n",
    "kota = [\"Jakarta\", \"Surabaya\", \"Medan\", \"Bekasi\", \"Bandung\", \"Ambon\", \"Aceh\", \"Cilegon\", \"Palu\", \n",
    "        \"Pematangsiantar\"]\n",
    "kota1 = sorted(kota)\n",
    "print(\"> nama kota di dalam list berdasarkan abjad = \", kota1)\n",
    "\n",
    "print(\"> 4 kota pertama dari list tersebut (yang telah diurutkan)  = \", kota[:4])\n",
    "print(\"> 3 kota terakhir dari list tersebut (yang telah diurutkan) = \",kota[7:len(kota)])\n",
    "\n",
    "\n"
   ]
  },
  {
   "cell_type": "markdown",
   "metadata": {
    "id": "FpbGs5EaE0jw"
   },
   "source": [
    "Jadi, dari operasi list di atas, dapat disimpulkan bahwa..."
   ]
  },
  {
   "cell_type": "markdown",
   "metadata": {
    "id": "6nanVjCCE0jx"
   },
   "source": [
    "## 4. Function dalam List\n",
    "\n",
    "> Team sales memiliki list total transaksi dari 10 merchant pada bulan Juni 2020, yaitu: \n",
    "```\n",
    "total_transaksi = [ 19, 35, 23, 25, 10, 15, 33, 45, 21, 30 ]\n",
    "```\n",
    "1. Trx minimum\n",
    "2. Rata-rata \n",
    "3. Trx maksimal\n",
    "\n",
    "Saran langkah-langkah pengerjaan\n",
    "1. Copy variabel total_transaksi yang ada di soal ke notebook kita (atau ketik ulang boleh)\n",
    "2. Kemudian, hitung menggunakan function operasi dalam list yang telah dipelajari di kelas pada topik list. Print hasilnya setiap poin (a), (b), dan (c)"
   ]
  },
  {
   "cell_type": "code",
   "execution_count": 13,
   "metadata": {
    "ExecuteTime": {
     "end_time": "2021-10-23T10:20:52.903045Z",
     "start_time": "2021-10-23T10:20:52.894900Z"
    },
    "id": "HxvjrB2RE0jx",
    "scrolled": true
   },
   "outputs": [
    {
     "name": "stdout",
     "output_type": "stream",
     "text": [
      "> Trx Minimum :  10\n",
      "> Rata - rata :  25.6\n",
      "> Trx Maximum :  45\n"
     ]
    }
   ],
   "source": [
    "# your code goes here!\n",
    "total_transaksi = [ 19, 35, 23, 25, 10, 15, 33, 45, 21, 30 ]\n",
    "\n",
    "print(\"> Trx Minimum : \", min(total_transaksi))\n",
    "print(\"> Rata - rata : \", sum(total_transaksi)/len(total_transaksi))\n",
    "print(\"> Trx Maximum : \", max(total_transaksi))"
   ]
  },
  {
   "cell_type": "markdown",
   "metadata": {
    "id": "UgHXbAOqE0jx"
   },
   "source": [
    "Jadi, dari hasil operasi list di atas, dapat disimpulkan bahwa nilai minimal, max, rata-rata..."
   ]
  },
  {
   "cell_type": "markdown",
   "metadata": {
    "id": "f4EkwISgE0jx"
   },
   "source": [
    "# Advanced"
   ]
  },
  {
   "cell_type": "markdown",
   "metadata": {
    "id": "fmaX-pu5E0jy"
   },
   "source": [
    "## 5. NumPy Array\n",
    "\n",
    "> Buatlah array dari 5 bilangan ganjil pertama (dimulai dari 1), Kemudian lakukan perintah berikut : \n",
    "1. Kali-kan array tersebut dengan 10\n",
    "2. Bagi-kan array (hasil dari bagian a) dengan 3\n",
    "3. Kali-kan array (hasil dari bagian b) dengan array baru :\n",
    "`[-45, 43, 3, 56, 5]`\n",
    "4. Carilah pada index ke-berapa nilai tertinggi dan terendah dari array (hasil dari bagian c) \n",
    "\n",
    "Saran langkah-langkah pengerjaan\n",
    "1. HATI-HATI dalam pengerjaan, karena apabila poin sebelumnya salah, maka selanjutnya akan kebawa salah (misal (b) salah, maka poin (c) sampai (d) akan salah)\n",
    "2. Untuk array 5 bilangan ganjil pertama boleh manual boleh menggunakan fungsi, dimulai dari 1\n",
    "3. Ikuti perintah soal, gunakan numpy array, jangan list. Sesuaikan dengan permintaan soal pada setiap butir.\n",
    "\n"
   ]
  },
  {
   "cell_type": "code",
   "execution_count": 25,
   "metadata": {
    "ExecuteTime": {
     "end_time": "2021-10-23T10:20:59.988806Z",
     "start_time": "2021-10-23T10:20:59.980744Z"
    },
    "id": "VTTOjU8wE0jy",
    "scrolled": false
   },
   "outputs": [
    {
     "name": "stdout",
     "output_type": "stream",
     "text": [
      "[1 3 5 7 9]\n",
      " 1. kalikan array                      :  [10 30 50 70 90]\n",
      "\n",
      " 2. bagikan array dengan a             :  [ 3.33333333 10.         16.66666667 23.33333333 30.        ]\n",
      "[-45  43   3  56   5]\n",
      "\n",
      " 3.  [-150.          430.           50.         1306.66666667  150.        ]\n",
      "\n",
      " 4.a. index ke berapa nilaii tertinggi :  3\n",
      " 4.b. index ke berapa nilaii terendah  :  0\n"
     ]
    }
   ],
   "source": [
    "# your code goes here!\n",
    "\n",
    "ganjil = [1, 3, 5, 7, 9]\n",
    "nilai = np.array(ganjil)\n",
    "print(nilai)\n",
    "\n",
    "a = nilai * 10\n",
    "print(\" 1. kalikan array                      : \", a) #1\n",
    "\n",
    "b = a/3\n",
    "print(\"\\n 2. bagikan array dengan a             : \", b) #2\n",
    "\n",
    "b1 = [-45, 43, 3, 56, 5]\n",
    "b2 = np.array(b1)\n",
    "print(b2)\n",
    "\n",
    "c = b * b2\n",
    "print(\"\\n 3. \", c) #3\n",
    "\n",
    "print(\"\\n 4.a. index ke berapa nilaii tertinggi : \", np.argmax(c))  #4a\n",
    "print(\" 4.b. index ke berapa nilaii terendah  : \", np.argmin(c))  #4b\n",
    " "
   ]
  },
  {
   "cell_type": "markdown",
   "metadata": {
    "id": "wTkMvK_EE0jy"
   },
   "source": [
    "Jadi, dari hasil operasi numpy di atas, dapat disimpulkan bahwa..."
   ]
  },
  {
   "cell_type": "markdown",
   "metadata": {
    "id": "LLIlxgN3Pmwj"
   },
   "source": [
    "# Terimakasih, salam dari ... (asal daerah Anda)"
   ]
  }
 ],
 "metadata": {
  "colab": {
   "name": "Introduction to Python - Template Homework.ipynb",
   "provenance": [
    {
     "file_id": "1o6mB6nDZMoP2G3xbLWm0sj3E46EuFzPa",
     "timestamp": 1637509432432
    }
   ]
  },
  "kernelspec": {
   "display_name": "Python 3",
   "language": "python",
   "name": "python3"
  },
  "language_info": {
   "codemirror_mode": {
    "name": "ipython",
    "version": 3
   },
   "file_extension": ".py",
   "mimetype": "text/x-python",
   "name": "python",
   "nbconvert_exporter": "python",
   "pygments_lexer": "ipython3",
   "version": "3.8.8"
  },
  "toc": {
   "base_numbering": 1,
   "nav_menu": {},
   "number_sections": true,
   "sideBar": true,
   "skip_h1_title": false,
   "title_cell": "Table of Contents",
   "title_sidebar": "Contents",
   "toc_cell": false,
   "toc_position": {},
   "toc_section_display": true,
   "toc_window_display": true
  }
 },
 "nbformat": 4,
 "nbformat_minor": 1
}
