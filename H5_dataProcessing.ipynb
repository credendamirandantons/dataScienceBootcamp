{
 "cells": [
  {
   "cell_type": "raw",
   "id": "617cc410",
   "metadata": {},
   "source": [
    "Nama : Credenda Mirandantons"
   ]
  },
  {
   "cell_type": "code",
   "execution_count": 1,
   "id": "3392f5e9",
   "metadata": {},
   "outputs": [],
   "source": [
    "import pandas as pd"
   ]
  },
  {
   "cell_type": "markdown",
   "id": "378bea5c",
   "metadata": {},
   "source": [
    "# Soal Beginner"
   ]
  },
  {
   "cell_type": "markdown",
   "id": "ea5fc9a5",
   "metadata": {},
   "source": [
    "## No.1"
   ]
  },
  {
   "cell_type": "code",
   "execution_count": 2,
   "id": "59eb80dc",
   "metadata": {},
   "outputs": [
    {
     "data": {
      "text/html": [
       "<div>\n",
       "<style scoped>\n",
       "    .dataframe tbody tr th:only-of-type {\n",
       "        vertical-align: middle;\n",
       "    }\n",
       "\n",
       "    .dataframe tbody tr th {\n",
       "        vertical-align: top;\n",
       "    }\n",
       "\n",
       "    .dataframe thead th {\n",
       "        text-align: right;\n",
       "    }\n",
       "</style>\n",
       "<table border=\"1\" class=\"dataframe\">\n",
       "  <thead>\n",
       "    <tr style=\"text-align: right;\">\n",
       "      <th></th>\n",
       "      <th>No</th>\n",
       "      <th>nama_siswa</th>\n",
       "      <th>umur</th>\n",
       "      <th>email</th>\n",
       "      <th>score_matematika</th>\n",
       "      <th>score_ekonomi</th>\n",
       "      <th>score_olahraga</th>\n",
       "    </tr>\n",
       "  </thead>\n",
       "  <tbody>\n",
       "    <tr>\n",
       "      <th>0</th>\n",
       "      <td>1</td>\n",
       "      <td>Adi</td>\n",
       "      <td>15.0</td>\n",
       "      <td>andi@gmail.com</td>\n",
       "      <td>80</td>\n",
       "      <td>90.0</td>\n",
       "      <td>97</td>\n",
       "    </tr>\n",
       "    <tr>\n",
       "      <th>1</th>\n",
       "      <td>2</td>\n",
       "      <td>Budi</td>\n",
       "      <td>16.0</td>\n",
       "      <td>budi@gmail.com</td>\n",
       "      <td>90</td>\n",
       "      <td>95.0</td>\n",
       "      <td>95</td>\n",
       "    </tr>\n",
       "    <tr>\n",
       "      <th>2</th>\n",
       "      <td>3</td>\n",
       "      <td>Carli</td>\n",
       "      <td>14.0</td>\n",
       "      <td>carli@rakamin.com</td>\n",
       "      <td>100</td>\n",
       "      <td>100.0</td>\n",
       "      <td>96</td>\n",
       "    </tr>\n",
       "    <tr>\n",
       "      <th>3</th>\n",
       "      <td>4</td>\n",
       "      <td>Dadan</td>\n",
       "      <td>NaN</td>\n",
       "      <td>dadan@rakamin.com</td>\n",
       "      <td>95</td>\n",
       "      <td>86.0</td>\n",
       "      <td>100</td>\n",
       "    </tr>\n",
       "    <tr>\n",
       "      <th>4</th>\n",
       "      <td>5</td>\n",
       "      <td>Endang</td>\n",
       "      <td>16.0</td>\n",
       "      <td>endang@gmail.com</td>\n",
       "      <td>97</td>\n",
       "      <td>NaN</td>\n",
       "      <td>94</td>\n",
       "    </tr>\n",
       "  </tbody>\n",
       "</table>\n",
       "</div>"
      ],
      "text/plain": [
       "   No nama_siswa  umur              email  score_matematika  score_ekonomi  \\\n",
       "0   1        Adi  15.0     andi@gmail.com                80           90.0   \n",
       "1   2       Budi  16.0     budi@gmail.com                90           95.0   \n",
       "2   3      Carli  14.0  carli@rakamin.com               100          100.0   \n",
       "3   4      Dadan   NaN  dadan@rakamin.com                95           86.0   \n",
       "4   5     Endang  16.0   endang@gmail.com                97            NaN   \n",
       "\n",
       "   score_olahraga  \n",
       "0              97  \n",
       "1              95  \n",
       "2              96  \n",
       "3             100  \n",
       "4              94  "
      ]
     },
     "execution_count": 2,
     "metadata": {},
     "output_type": "execute_result"
    }
   ],
   "source": [
    "# Question : Buatlah python syntax untuk membuat data frame\n",
    "\n",
    "data = pd.DataFrame({'No'         : [1, 2, 3, 4, 5],\n",
    "                     'nama_siswa' : ['Adi', 'Budi', 'Carli', 'Dadan', 'Endang'],\n",
    "                     'umur'       : [15, 16, 14, None ,16],\n",
    "                     'email'      : ['andi@gmail.com', 'budi@gmail.com', 'carli@rakamin.com', 'dadan@rakamin.com', 'endang@gmail.com'],\n",
    "                     'score_matematika' : [80, 90, 100, 95, 97],\n",
    "                     'score_ekonomi'    : [90, 95, 100, 86, None],\n",
    "                     'score_olahraga'   : [97, 95, 96, 100, 94]})\n",
    "data"
   ]
  },
  {
   "cell_type": "markdown",
   "id": "693e9bfa",
   "metadata": {},
   "source": [
    "## No.2 "
   ]
  },
  {
   "cell_type": "code",
   "execution_count": 3,
   "id": "18cd3ef3",
   "metadata": {
    "scrolled": true
   },
   "outputs": [
    {
     "data": {
      "text/html": [
       "<div>\n",
       "<style scoped>\n",
       "    .dataframe tbody tr th:only-of-type {\n",
       "        vertical-align: middle;\n",
       "    }\n",
       "\n",
       "    .dataframe tbody tr th {\n",
       "        vertical-align: top;\n",
       "    }\n",
       "\n",
       "    .dataframe thead th {\n",
       "        text-align: right;\n",
       "    }\n",
       "</style>\n",
       "<table border=\"1\" class=\"dataframe\">\n",
       "  <thead>\n",
       "    <tr style=\"text-align: right;\">\n",
       "      <th></th>\n",
       "      <th>No</th>\n",
       "      <th>nama_siswa</th>\n",
       "      <th>umur</th>\n",
       "      <th>email</th>\n",
       "      <th>score_matematika</th>\n",
       "      <th>score_ekonomi</th>\n",
       "      <th>score_olahraga</th>\n",
       "    </tr>\n",
       "  </thead>\n",
       "  <tbody>\n",
       "    <tr>\n",
       "      <th>2</th>\n",
       "      <td>3</td>\n",
       "      <td>Carli</td>\n",
       "      <td>14.0</td>\n",
       "      <td>carli@rakamin.com</td>\n",
       "      <td>100</td>\n",
       "      <td>100.0</td>\n",
       "      <td>96</td>\n",
       "    </tr>\n",
       "    <tr>\n",
       "      <th>4</th>\n",
       "      <td>5</td>\n",
       "      <td>Endang</td>\n",
       "      <td>16.0</td>\n",
       "      <td>endang@gmail.com</td>\n",
       "      <td>97</td>\n",
       "      <td>NaN</td>\n",
       "      <td>94</td>\n",
       "    </tr>\n",
       "    <tr>\n",
       "      <th>3</th>\n",
       "      <td>4</td>\n",
       "      <td>Dadan</td>\n",
       "      <td>NaN</td>\n",
       "      <td>dadan@rakamin.com</td>\n",
       "      <td>95</td>\n",
       "      <td>86.0</td>\n",
       "      <td>100</td>\n",
       "    </tr>\n",
       "    <tr>\n",
       "      <th>1</th>\n",
       "      <td>2</td>\n",
       "      <td>Budi</td>\n",
       "      <td>16.0</td>\n",
       "      <td>budi@gmail.com</td>\n",
       "      <td>90</td>\n",
       "      <td>95.0</td>\n",
       "      <td>95</td>\n",
       "    </tr>\n",
       "    <tr>\n",
       "      <th>0</th>\n",
       "      <td>1</td>\n",
       "      <td>Adi</td>\n",
       "      <td>15.0</td>\n",
       "      <td>andi@gmail.com</td>\n",
       "      <td>80</td>\n",
       "      <td>90.0</td>\n",
       "      <td>97</td>\n",
       "    </tr>\n",
       "  </tbody>\n",
       "</table>\n",
       "</div>"
      ],
      "text/plain": [
       "   No nama_siswa  umur              email  score_matematika  score_ekonomi  \\\n",
       "2   3      Carli  14.0  carli@rakamin.com               100          100.0   \n",
       "4   5     Endang  16.0   endang@gmail.com                97            NaN   \n",
       "3   4      Dadan   NaN  dadan@rakamin.com                95           86.0   \n",
       "1   2       Budi  16.0     budi@gmail.com                90           95.0   \n",
       "0   1        Adi  15.0     andi@gmail.com                80           90.0   \n",
       "\n",
       "   score_olahraga  \n",
       "2              96  \n",
       "4              94  \n",
       "3             100  \n",
       "1              95  \n",
       "0              97  "
      ]
     },
     "execution_count": 3,
     "metadata": {},
     "output_type": "execute_result"
    }
   ],
   "source": [
    "# Point 1 : Urutkan data frame berdasarkan kolom score_matematika dari nilai \n",
    "#           terbesar hingga nilai terkecil.\n",
    "\n",
    "\n",
    "data_sorted = data.sort_values('score_matematika', ascending = False)\n",
    "data_sorted\n"
   ]
  },
  {
   "cell_type": "code",
   "execution_count": 4,
   "id": "fc78673d",
   "metadata": {},
   "outputs": [
    {
     "data": {
      "text/html": [
       "<div>\n",
       "<style scoped>\n",
       "    .dataframe tbody tr th:only-of-type {\n",
       "        vertical-align: middle;\n",
       "    }\n",
       "\n",
       "    .dataframe tbody tr th {\n",
       "        vertical-align: top;\n",
       "    }\n",
       "\n",
       "    .dataframe thead th {\n",
       "        text-align: right;\n",
       "    }\n",
       "</style>\n",
       "<table border=\"1\" class=\"dataframe\">\n",
       "  <thead>\n",
       "    <tr style=\"text-align: right;\">\n",
       "      <th></th>\n",
       "      <th>No</th>\n",
       "      <th>nama_siswa</th>\n",
       "      <th>umur</th>\n",
       "      <th>email</th>\n",
       "      <th>score_matematika</th>\n",
       "      <th>score_ekonomi</th>\n",
       "      <th>score_olahraga</th>\n",
       "    </tr>\n",
       "  </thead>\n",
       "  <tbody>\n",
       "    <tr>\n",
       "      <th>0</th>\n",
       "      <td>1</td>\n",
       "      <td>Adi</td>\n",
       "      <td>15.0</td>\n",
       "      <td>andi@gmail.com</td>\n",
       "      <td>80</td>\n",
       "      <td>90.0</td>\n",
       "      <td>97</td>\n",
       "    </tr>\n",
       "  </tbody>\n",
       "</table>\n",
       "</div>"
      ],
      "text/plain": [
       "   No nama_siswa  umur           email  score_matematika  score_ekonomi  \\\n",
       "0   1        Adi  15.0  andi@gmail.com                80           90.0   \n",
       "\n",
       "   score_olahraga  \n",
       "0              97  "
      ]
     },
     "execution_count": 4,
     "metadata": {},
     "output_type": "execute_result"
    }
   ],
   "source": [
    "# Point 2 : Dari “data_sorted” tersebut, ambil baris pada siswa dengan \n",
    "#           score_matematika terkecil\n",
    "\n",
    "data_lowest_score = data_sorted[data_sorted['score_matematika'] \n",
    "                    == data_sorted['score_matematika'].min()]\n",
    "data_lowest_score"
   ]
  },
  {
   "cell_type": "code",
   "execution_count": 5,
   "id": "c409f610",
   "metadata": {},
   "outputs": [
    {
     "data": {
      "text/html": [
       "<div>\n",
       "<style scoped>\n",
       "    .dataframe tbody tr th:only-of-type {\n",
       "        vertical-align: middle;\n",
       "    }\n",
       "\n",
       "    .dataframe tbody tr th {\n",
       "        vertical-align: top;\n",
       "    }\n",
       "\n",
       "    .dataframe thead th {\n",
       "        text-align: right;\n",
       "    }\n",
       "</style>\n",
       "<table border=\"1\" class=\"dataframe\">\n",
       "  <thead>\n",
       "    <tr style=\"text-align: right;\">\n",
       "      <th></th>\n",
       "      <th>nama_siswa</th>\n",
       "    </tr>\n",
       "  </thead>\n",
       "  <tbody>\n",
       "    <tr>\n",
       "      <th>0</th>\n",
       "      <td>Adi</td>\n",
       "    </tr>\n",
       "  </tbody>\n",
       "</table>\n",
       "</div>"
      ],
      "text/plain": [
       "  nama_siswa\n",
       "0        Adi"
      ]
     },
     "execution_count": 5,
     "metadata": {},
     "output_type": "execute_result"
    }
   ],
   "source": [
    "# Point 3 : siapa nama siswa dengan score_matematika terkecil?\n",
    "\n",
    "data_lowest_score[['nama_siswa']]"
   ]
  },
  {
   "cell_type": "markdown",
   "id": "6392ea4d",
   "metadata": {},
   "source": [
    "## No.3"
   ]
  },
  {
   "cell_type": "code",
   "execution_count": 6,
   "id": "c4abae92",
   "metadata": {},
   "outputs": [
    {
     "data": {
      "text/html": [
       "<div>\n",
       "<style scoped>\n",
       "    .dataframe tbody tr th:only-of-type {\n",
       "        vertical-align: middle;\n",
       "    }\n",
       "\n",
       "    .dataframe tbody tr th {\n",
       "        vertical-align: top;\n",
       "    }\n",
       "\n",
       "    .dataframe thead th {\n",
       "        text-align: right;\n",
       "    }\n",
       "</style>\n",
       "<table border=\"1\" class=\"dataframe\">\n",
       "  <thead>\n",
       "    <tr style=\"text-align: right;\">\n",
       "      <th></th>\n",
       "      <th>No</th>\n",
       "      <th>nama_siswa</th>\n",
       "      <th>umur</th>\n",
       "      <th>email</th>\n",
       "      <th>score_matematika</th>\n",
       "      <th>score_ekonomi</th>\n",
       "      <th>score_olahraga</th>\n",
       "    </tr>\n",
       "  </thead>\n",
       "  <tbody>\n",
       "    <tr>\n",
       "      <th>0</th>\n",
       "      <td>1</td>\n",
       "      <td>Adi</td>\n",
       "      <td>15.0</td>\n",
       "      <td>andi@gmail.com</td>\n",
       "      <td>80</td>\n",
       "      <td>90.0</td>\n",
       "      <td>97</td>\n",
       "    </tr>\n",
       "    <tr>\n",
       "      <th>1</th>\n",
       "      <td>2</td>\n",
       "      <td>Budi</td>\n",
       "      <td>16.0</td>\n",
       "      <td>budi@gmail.com</td>\n",
       "      <td>90</td>\n",
       "      <td>95.0</td>\n",
       "      <td>95</td>\n",
       "    </tr>\n",
       "  </tbody>\n",
       "</table>\n",
       "</div>"
      ],
      "text/plain": [
       "   No nama_siswa  umur           email  score_matematika  score_ekonomi  \\\n",
       "0   1        Adi  15.0  andi@gmail.com                80           90.0   \n",
       "1   2       Budi  16.0  budi@gmail.com                90           95.0   \n",
       "\n",
       "   score_olahraga  \n",
       "0              97  \n",
       "1              95  "
      ]
     },
     "execution_count": 6,
     "metadata": {},
     "output_type": "execute_result"
    }
   ],
   "source": [
    "# Point 1 : Filter siswa yang memiliki email ber-domain gmail DAN memiliki \n",
    "#           score_ekomomi tidak null\n",
    "\n",
    "data_siswa_gmail = data[data['email'].str.contains('@gmail.com') \n",
    "                      & data['score_ekonomi'].notnull()]\n",
    "data_siswa_gmail"
   ]
  },
  {
   "cell_type": "code",
   "execution_count": 7,
   "id": "1496c937",
   "metadata": {},
   "outputs": [
    {
     "data": {
      "text/plain": [
       "15.5"
      ]
     },
     "execution_count": 7,
     "metadata": {},
     "output_type": "execute_result"
    }
   ],
   "source": [
    "# Point 2 : Berapa umur rata-rata dari siswa di “data_siswa_gmail” tersebut?\n",
    "\n",
    "data_siswa_gmail['umur'].mean()"
   ]
  },
  {
   "cell_type": "markdown",
   "id": "81f5232d",
   "metadata": {},
   "source": [
    "## No.4"
   ]
  },
  {
   "cell_type": "code",
   "execution_count": 8,
   "id": "49f86ba8",
   "metadata": {},
   "outputs": [
    {
     "data": {
      "text/html": [
       "<div>\n",
       "<style scoped>\n",
       "    .dataframe tbody tr th:only-of-type {\n",
       "        vertical-align: middle;\n",
       "    }\n",
       "\n",
       "    .dataframe tbody tr th {\n",
       "        vertical-align: top;\n",
       "    }\n",
       "\n",
       "    .dataframe thead th {\n",
       "        text-align: right;\n",
       "    }\n",
       "</style>\n",
       "<table border=\"1\" class=\"dataframe\">\n",
       "  <thead>\n",
       "    <tr style=\"text-align: right;\">\n",
       "      <th></th>\n",
       "      <th>No</th>\n",
       "      <th>nama_siswa</th>\n",
       "      <th>umur</th>\n",
       "      <th>email</th>\n",
       "      <th>score_matematika</th>\n",
       "      <th>score_ekonomi</th>\n",
       "      <th>score_olahraga</th>\n",
       "    </tr>\n",
       "  </thead>\n",
       "  <tbody>\n",
       "    <tr>\n",
       "      <th>0</th>\n",
       "      <td>6</td>\n",
       "      <td>Fauzan</td>\n",
       "      <td>15</td>\n",
       "      <td>fauzan@gmail.com</td>\n",
       "      <td>80</td>\n",
       "      <td>90</td>\n",
       "      <td>97</td>\n",
       "    </tr>\n",
       "    <tr>\n",
       "      <th>1</th>\n",
       "      <td>7</td>\n",
       "      <td>Guntur</td>\n",
       "      <td>16</td>\n",
       "      <td>guntur@gmail.com</td>\n",
       "      <td>90</td>\n",
       "      <td>95</td>\n",
       "      <td>95</td>\n",
       "    </tr>\n",
       "  </tbody>\n",
       "</table>\n",
       "</div>"
      ],
      "text/plain": [
       "   No nama_siswa  umur             email  score_matematika  score_ekonomi  \\\n",
       "0   6     Fauzan    15  fauzan@gmail.com                80             90   \n",
       "1   7     Guntur    16  guntur@gmail.com                90             95   \n",
       "\n",
       "   score_olahraga  \n",
       "0              97  \n",
       "1              95  "
      ]
     },
     "execution_count": 8,
     "metadata": {},
     "output_type": "execute_result"
    }
   ],
   "source": [
    "# Point 1 : Buatlah data frame berikut, dan simpan dengan nama “additional_data”\n",
    "\n",
    "additional_data = pd.DataFrame({'No'         : [6, 7], \n",
    "                                'nama_siswa' : ['Fauzan', 'Guntur'],\n",
    "                                'umur'       : [15, 16],\n",
    "                                'email'      : ['fauzan@gmail.com', 'guntur@gmail.com'],\n",
    "                                'score_matematika' : [80, 90],\n",
    "                                'score_ekonomi'    : [90, 95],\n",
    "                                'score_olahraga'   : [97, 95]})\n",
    "additional_data"
   ]
  },
  {
   "cell_type": "code",
   "execution_count": 9,
   "id": "a04fbcfc",
   "metadata": {},
   "outputs": [
    {
     "data": {
      "text/html": [
       "<div>\n",
       "<style scoped>\n",
       "    .dataframe tbody tr th:only-of-type {\n",
       "        vertical-align: middle;\n",
       "    }\n",
       "\n",
       "    .dataframe tbody tr th {\n",
       "        vertical-align: top;\n",
       "    }\n",
       "\n",
       "    .dataframe thead th {\n",
       "        text-align: right;\n",
       "    }\n",
       "</style>\n",
       "<table border=\"1\" class=\"dataframe\">\n",
       "  <thead>\n",
       "    <tr style=\"text-align: right;\">\n",
       "      <th></th>\n",
       "      <th>No</th>\n",
       "      <th>nama_siswa</th>\n",
       "      <th>umur</th>\n",
       "      <th>email</th>\n",
       "      <th>score_matematika</th>\n",
       "      <th>score_ekonomi</th>\n",
       "      <th>score_olahraga</th>\n",
       "    </tr>\n",
       "  </thead>\n",
       "  <tbody>\n",
       "    <tr>\n",
       "      <th>0</th>\n",
       "      <td>1</td>\n",
       "      <td>Adi</td>\n",
       "      <td>15.0</td>\n",
       "      <td>andi@gmail.com</td>\n",
       "      <td>80</td>\n",
       "      <td>90.0</td>\n",
       "      <td>97</td>\n",
       "    </tr>\n",
       "    <tr>\n",
       "      <th>1</th>\n",
       "      <td>2</td>\n",
       "      <td>Budi</td>\n",
       "      <td>16.0</td>\n",
       "      <td>budi@gmail.com</td>\n",
       "      <td>90</td>\n",
       "      <td>95.0</td>\n",
       "      <td>95</td>\n",
       "    </tr>\n",
       "    <tr>\n",
       "      <th>2</th>\n",
       "      <td>3</td>\n",
       "      <td>Carli</td>\n",
       "      <td>14.0</td>\n",
       "      <td>carli@rakamin.com</td>\n",
       "      <td>100</td>\n",
       "      <td>100.0</td>\n",
       "      <td>96</td>\n",
       "    </tr>\n",
       "    <tr>\n",
       "      <th>3</th>\n",
       "      <td>4</td>\n",
       "      <td>Dadan</td>\n",
       "      <td>NaN</td>\n",
       "      <td>dadan@rakamin.com</td>\n",
       "      <td>95</td>\n",
       "      <td>86.0</td>\n",
       "      <td>100</td>\n",
       "    </tr>\n",
       "    <tr>\n",
       "      <th>4</th>\n",
       "      <td>5</td>\n",
       "      <td>Endang</td>\n",
       "      <td>16.0</td>\n",
       "      <td>endang@gmail.com</td>\n",
       "      <td>97</td>\n",
       "      <td>NaN</td>\n",
       "      <td>94</td>\n",
       "    </tr>\n",
       "    <tr>\n",
       "      <th>0</th>\n",
       "      <td>6</td>\n",
       "      <td>Fauzan</td>\n",
       "      <td>15.0</td>\n",
       "      <td>fauzan@gmail.com</td>\n",
       "      <td>80</td>\n",
       "      <td>90.0</td>\n",
       "      <td>97</td>\n",
       "    </tr>\n",
       "    <tr>\n",
       "      <th>1</th>\n",
       "      <td>7</td>\n",
       "      <td>Guntur</td>\n",
       "      <td>16.0</td>\n",
       "      <td>guntur@gmail.com</td>\n",
       "      <td>90</td>\n",
       "      <td>95.0</td>\n",
       "      <td>95</td>\n",
       "    </tr>\n",
       "  </tbody>\n",
       "</table>\n",
       "</div>"
      ],
      "text/plain": [
       "   No nama_siswa  umur              email  score_matematika  score_ekonomi  \\\n",
       "0   1        Adi  15.0     andi@gmail.com                80           90.0   \n",
       "1   2       Budi  16.0     budi@gmail.com                90           95.0   \n",
       "2   3      Carli  14.0  carli@rakamin.com               100          100.0   \n",
       "3   4      Dadan   NaN  dadan@rakamin.com                95           86.0   \n",
       "4   5     Endang  16.0   endang@gmail.com                97            NaN   \n",
       "0   6     Fauzan  15.0   fauzan@gmail.com                80           90.0   \n",
       "1   7     Guntur  16.0   guntur@gmail.com                90           95.0   \n",
       "\n",
       "   score_olahraga  \n",
       "0              97  \n",
       "1              95  \n",
       "2              96  \n",
       "3             100  \n",
       "4              94  \n",
       "0              97  \n",
       "1              95  "
      ]
     },
     "execution_count": 9,
     "metadata": {},
     "output_type": "execute_result"
    }
   ],
   "source": [
    "# Point 2 : Kemudian append “additional_data” tersebut dengan data frame \n",
    "#           “data” pada no.1 di atas.\n",
    "\n",
    "new_data = data.append(additional_data, ignore_index = False)\n",
    "new_data"
   ]
  },
  {
   "cell_type": "code",
   "execution_count": 10,
   "id": "631cefdd",
   "metadata": {},
   "outputs": [
    {
     "data": {
      "text/plain": [
       "15.5"
      ]
     },
     "execution_count": 10,
     "metadata": {},
     "output_type": "execute_result"
    }
   ],
   "source": [
    "# Point 3 : berapa median umur mereka sekarang? (setelah append dilakukan)\n",
    "\n",
    "new_data['umur'].median()"
   ]
  },
  {
   "cell_type": "markdown",
   "id": "14508ae8",
   "metadata": {},
   "source": [
    "## No.5"
   ]
  },
  {
   "cell_type": "code",
   "execution_count": 11,
   "id": "9ad9f02a",
   "metadata": {},
   "outputs": [
    {
     "data": {
      "text/html": [
       "<div>\n",
       "<style scoped>\n",
       "    .dataframe tbody tr th:only-of-type {\n",
       "        vertical-align: middle;\n",
       "    }\n",
       "\n",
       "    .dataframe tbody tr th {\n",
       "        vertical-align: top;\n",
       "    }\n",
       "\n",
       "    .dataframe thead th {\n",
       "        text-align: right;\n",
       "    }\n",
       "</style>\n",
       "<table border=\"1\" class=\"dataframe\">\n",
       "  <thead>\n",
       "    <tr style=\"text-align: right;\">\n",
       "      <th></th>\n",
       "      <th>nama</th>\n",
       "      <th>alamat</th>\n",
       "    </tr>\n",
       "  </thead>\n",
       "  <tbody>\n",
       "    <tr>\n",
       "      <th>0</th>\n",
       "      <td>Adi</td>\n",
       "      <td>DKI Jakarta</td>\n",
       "    </tr>\n",
       "    <tr>\n",
       "      <th>1</th>\n",
       "      <td>Budi</td>\n",
       "      <td>DKI Jakarta</td>\n",
       "    </tr>\n",
       "    <tr>\n",
       "      <th>2</th>\n",
       "      <td>Dadan</td>\n",
       "      <td>Banten</td>\n",
       "    </tr>\n",
       "    <tr>\n",
       "      <th>3</th>\n",
       "      <td>Endang</td>\n",
       "      <td>Banten</td>\n",
       "    </tr>\n",
       "    <tr>\n",
       "      <th>4</th>\n",
       "      <td>Guntur</td>\n",
       "      <td>Jawa Barat</td>\n",
       "    </tr>\n",
       "    <tr>\n",
       "      <th>5</th>\n",
       "      <td>Halim</td>\n",
       "      <td>Aceh</td>\n",
       "    </tr>\n",
       "  </tbody>\n",
       "</table>\n",
       "</div>"
      ],
      "text/plain": [
       "     nama       alamat\n",
       "0     Adi  DKI Jakarta\n",
       "1    Budi  DKI Jakarta\n",
       "2   Dadan       Banten\n",
       "3  Endang       Banten\n",
       "4  Guntur   Jawa Barat\n",
       "5   Halim         Aceh"
      ]
     },
     "execution_count": 11,
     "metadata": {},
     "output_type": "execute_result"
    }
   ],
   "source": [
    "# Point 1 : Buatlah data frame berikut, dan simpan dengan nama “data_address” \n",
    "\n",
    "data_address = pd.DataFrame({'nama' : ['Adi', 'Budi', 'Dadan', 'Endang', 'Guntur', 'Halim'],\n",
    "                             'alamat' : ['DKI Jakarta', 'DKI Jakarta', 'Banten', 'Banten', 'Jawa Barat', 'Aceh']})\n",
    "data_address"
   ]
  },
  {
   "cell_type": "code",
   "execution_count": 12,
   "id": "a891ea51",
   "metadata": {},
   "outputs": [
    {
     "data": {
      "text/html": [
       "<div>\n",
       "<style scoped>\n",
       "    .dataframe tbody tr th:only-of-type {\n",
       "        vertical-align: middle;\n",
       "    }\n",
       "\n",
       "    .dataframe tbody tr th {\n",
       "        vertical-align: top;\n",
       "    }\n",
       "\n",
       "    .dataframe thead th {\n",
       "        text-align: right;\n",
       "    }\n",
       "</style>\n",
       "<table border=\"1\" class=\"dataframe\">\n",
       "  <thead>\n",
       "    <tr style=\"text-align: right;\">\n",
       "      <th></th>\n",
       "      <th>No</th>\n",
       "      <th>nama_siswa</th>\n",
       "      <th>umur</th>\n",
       "      <th>email</th>\n",
       "      <th>score_matematika</th>\n",
       "      <th>score_ekonomi</th>\n",
       "      <th>score_olahraga</th>\n",
       "      <th>nama</th>\n",
       "      <th>alamat</th>\n",
       "    </tr>\n",
       "  </thead>\n",
       "  <tbody>\n",
       "    <tr>\n",
       "      <th>0</th>\n",
       "      <td>1</td>\n",
       "      <td>Adi</td>\n",
       "      <td>15.0</td>\n",
       "      <td>andi@gmail.com</td>\n",
       "      <td>80</td>\n",
       "      <td>90.0</td>\n",
       "      <td>97</td>\n",
       "      <td>Adi</td>\n",
       "      <td>DKI Jakarta</td>\n",
       "    </tr>\n",
       "    <tr>\n",
       "      <th>1</th>\n",
       "      <td>2</td>\n",
       "      <td>Budi</td>\n",
       "      <td>16.0</td>\n",
       "      <td>budi@gmail.com</td>\n",
       "      <td>90</td>\n",
       "      <td>95.0</td>\n",
       "      <td>95</td>\n",
       "      <td>Budi</td>\n",
       "      <td>DKI Jakarta</td>\n",
       "    </tr>\n",
       "    <tr>\n",
       "      <th>2</th>\n",
       "      <td>4</td>\n",
       "      <td>Dadan</td>\n",
       "      <td>NaN</td>\n",
       "      <td>dadan@rakamin.com</td>\n",
       "      <td>95</td>\n",
       "      <td>86.0</td>\n",
       "      <td>100</td>\n",
       "      <td>Dadan</td>\n",
       "      <td>Banten</td>\n",
       "    </tr>\n",
       "    <tr>\n",
       "      <th>3</th>\n",
       "      <td>5</td>\n",
       "      <td>Endang</td>\n",
       "      <td>16.0</td>\n",
       "      <td>endang@gmail.com</td>\n",
       "      <td>97</td>\n",
       "      <td>NaN</td>\n",
       "      <td>94</td>\n",
       "      <td>Endang</td>\n",
       "      <td>Banten</td>\n",
       "    </tr>\n",
       "    <tr>\n",
       "      <th>4</th>\n",
       "      <td>7</td>\n",
       "      <td>Guntur</td>\n",
       "      <td>16.0</td>\n",
       "      <td>guntur@gmail.com</td>\n",
       "      <td>90</td>\n",
       "      <td>95.0</td>\n",
       "      <td>95</td>\n",
       "      <td>Guntur</td>\n",
       "      <td>Jawa Barat</td>\n",
       "    </tr>\n",
       "  </tbody>\n",
       "</table>\n",
       "</div>"
      ],
      "text/plain": [
       "   No nama_siswa  umur              email  score_matematika  score_ekonomi  \\\n",
       "0   1        Adi  15.0     andi@gmail.com                80           90.0   \n",
       "1   2       Budi  16.0     budi@gmail.com                90           95.0   \n",
       "2   4      Dadan   NaN  dadan@rakamin.com                95           86.0   \n",
       "3   5     Endang  16.0   endang@gmail.com                97            NaN   \n",
       "4   7     Guntur  16.0   guntur@gmail.com                90           95.0   \n",
       "\n",
       "   score_olahraga    nama       alamat  \n",
       "0              97     Adi  DKI Jakarta  \n",
       "1              95    Budi  DKI Jakarta  \n",
       "2             100   Dadan       Banten  \n",
       "3              94  Endang       Banten  \n",
       "4              95  Guntur   Jawa Barat  "
      ]
     },
     "execution_count": 12,
     "metadata": {},
     "output_type": "execute_result"
    }
   ],
   "source": [
    "# Point 2 : Lakukanlah merge data frame “new_data” pada no.4 di atas \n",
    "#           dengan “data_address”\n",
    "\n",
    "new_merge = new_data.merge(data_address,\n",
    "                           left_on = 'nama_siswa',\n",
    "                           right_on = 'nama',\n",
    "                           how = 'inner'\n",
    "                          )\n",
    "new_merge"
   ]
  },
  {
   "cell_type": "code",
   "execution_count": 13,
   "id": "f1301961",
   "metadata": {},
   "outputs": [
    {
     "data": {
      "text/html": [
       "<div>\n",
       "<style scoped>\n",
       "    .dataframe tbody tr th:only-of-type {\n",
       "        vertical-align: middle;\n",
       "    }\n",
       "\n",
       "    .dataframe tbody tr th {\n",
       "        vertical-align: top;\n",
       "    }\n",
       "\n",
       "    .dataframe thead th {\n",
       "        text-align: right;\n",
       "    }\n",
       "</style>\n",
       "<table border=\"1\" class=\"dataframe\">\n",
       "  <thead>\n",
       "    <tr style=\"text-align: right;\">\n",
       "      <th></th>\n",
       "      <th>umur</th>\n",
       "    </tr>\n",
       "    <tr>\n",
       "      <th>alamat</th>\n",
       "      <th></th>\n",
       "    </tr>\n",
       "  </thead>\n",
       "  <tbody>\n",
       "    <tr>\n",
       "      <th>Banten</th>\n",
       "      <td>16.0</td>\n",
       "    </tr>\n",
       "    <tr>\n",
       "      <th>DKI Jakarta</th>\n",
       "      <td>15.5</td>\n",
       "    </tr>\n",
       "    <tr>\n",
       "      <th>Jawa Barat</th>\n",
       "      <td>16.0</td>\n",
       "    </tr>\n",
       "  </tbody>\n",
       "</table>\n",
       "</div>"
      ],
      "text/plain": [
       "             umur\n",
       "alamat           \n",
       "Banten       16.0\n",
       "DKI Jakarta  15.5\n",
       "Jawa Barat   16.0"
      ]
     },
     "execution_count": 13,
     "metadata": {},
     "output_type": "execute_result"
    }
   ],
   "source": [
    "# Point 3 : Bandingkan umur rata-rata siswa per alamat mereka berasal\n",
    "\n",
    "agg_umur = new_merge.groupby('alamat').agg({'umur' : 'mean'})\n",
    "agg_umur"
   ]
  },
  {
   "cell_type": "code",
   "execution_count": 14,
   "id": "fad23f30",
   "metadata": {},
   "outputs": [
    {
     "data": {
      "text/html": [
       "<div>\n",
       "<style scoped>\n",
       "    .dataframe tbody tr th:only-of-type {\n",
       "        vertical-align: middle;\n",
       "    }\n",
       "\n",
       "    .dataframe tbody tr th {\n",
       "        vertical-align: top;\n",
       "    }\n",
       "\n",
       "    .dataframe thead th {\n",
       "        text-align: right;\n",
       "    }\n",
       "</style>\n",
       "<table border=\"1\" class=\"dataframe\">\n",
       "  <thead>\n",
       "    <tr style=\"text-align: right;\">\n",
       "      <th></th>\n",
       "      <th>umur</th>\n",
       "    </tr>\n",
       "    <tr>\n",
       "      <th>alamat</th>\n",
       "      <th></th>\n",
       "    </tr>\n",
       "  </thead>\n",
       "  <tbody>\n",
       "    <tr>\n",
       "      <th>DKI Jakarta</th>\n",
       "      <td>15.5</td>\n",
       "    </tr>\n",
       "  </tbody>\n",
       "</table>\n",
       "</div>"
      ],
      "text/plain": [
       "             umur\n",
       "alamat           \n",
       "DKI Jakarta  15.5"
      ]
     },
     "execution_count": 14,
     "metadata": {},
     "output_type": "execute_result"
    }
   ],
   "source": [
    "# Point 4 : Pada alamat yang mana, umur rata-rata mereka yang paling kecil?\n",
    "\n",
    "agg_umur[agg_umur['umur'] == agg_umur['umur'].min()]"
   ]
  },
  {
   "cell_type": "markdown",
   "id": "fce11967",
   "metadata": {},
   "source": [
    "# Soal Intermediate"
   ]
  },
  {
   "cell_type": "markdown",
   "id": "b2a929ae",
   "metadata": {},
   "source": [
    "## No.6"
   ]
  },
  {
   "cell_type": "code",
   "execution_count": 15,
   "id": "bd7917a0",
   "metadata": {},
   "outputs": [
    {
     "ename": "FileNotFoundError",
     "evalue": "[Errno 2] No such file or directory: 'C:\\\\Users\\\\1234\\\\Downloads\\\\RakaminAcademy\\\\HomeWork\\\\Dataset\\\\data_airlines.xlsx'",
     "output_type": "error",
     "traceback": [
      "\u001b[1;31m---------------------------------------------------------------------------\u001b[0m",
      "\u001b[1;31mFileNotFoundError\u001b[0m                         Traceback (most recent call last)",
      "\u001b[1;32m<ipython-input-15-7b49439d2557>\u001b[0m in \u001b[0;36m<module>\u001b[1;34m\u001b[0m\n\u001b[0;32m      1\u001b[0m \u001b[1;31m# read data\u001b[0m\u001b[1;33m\u001b[0m\u001b[1;33m\u001b[0m\u001b[1;33m\u001b[0m\u001b[0m\n\u001b[0;32m      2\u001b[0m \u001b[1;33m\u001b[0m\u001b[0m\n\u001b[1;32m----> 3\u001b[1;33m \u001b[0mairlines\u001b[0m \u001b[1;33m=\u001b[0m \u001b[0mpd\u001b[0m\u001b[1;33m.\u001b[0m\u001b[0mread_excel\u001b[0m\u001b[1;33m(\u001b[0m\u001b[1;34mr'C:\\Users\\1234\\Downloads\\RakaminAcademy\\HomeWork\\Dataset\\data_airlines.xlsx'\u001b[0m\u001b[1;33m)\u001b[0m\u001b[1;33m\u001b[0m\u001b[1;33m\u001b[0m\u001b[0m\n\u001b[0m\u001b[0;32m      4\u001b[0m \u001b[0mairports\u001b[0m \u001b[1;33m=\u001b[0m \u001b[0mpd\u001b[0m\u001b[1;33m.\u001b[0m\u001b[0mread_excel\u001b[0m\u001b[1;33m(\u001b[0m\u001b[1;34mr'C:\\Users\\1234\\Downloads\\RakaminAcademy\\HomeWork\\Dataset\\data_airports.xlsx'\u001b[0m\u001b[1;33m)\u001b[0m\u001b[1;33m\u001b[0m\u001b[1;33m\u001b[0m\u001b[0m\n\u001b[0;32m      5\u001b[0m \u001b[0mflights\u001b[0m  \u001b[1;33m=\u001b[0m \u001b[0mpd\u001b[0m\u001b[1;33m.\u001b[0m\u001b[0mread_excel\u001b[0m\u001b[1;33m(\u001b[0m\u001b[1;34mr'C:\\Users\\1234\\Downloads\\RakaminAcademy\\HomeWork\\Dataset\\data_flights.xlsx'\u001b[0m\u001b[1;33m)\u001b[0m\u001b[1;33m\u001b[0m\u001b[1;33m\u001b[0m\u001b[0m\n",
      "\u001b[1;32mC:\\ProgramData\\Anaconda3\\lib\\site-packages\\pandas\\util\\_decorators.py\u001b[0m in \u001b[0;36mwrapper\u001b[1;34m(*args, **kwargs)\u001b[0m\n\u001b[0;32m    297\u001b[0m                 )\n\u001b[0;32m    298\u001b[0m                 \u001b[0mwarnings\u001b[0m\u001b[1;33m.\u001b[0m\u001b[0mwarn\u001b[0m\u001b[1;33m(\u001b[0m\u001b[0mmsg\u001b[0m\u001b[1;33m,\u001b[0m \u001b[0mFutureWarning\u001b[0m\u001b[1;33m,\u001b[0m \u001b[0mstacklevel\u001b[0m\u001b[1;33m=\u001b[0m\u001b[0mstacklevel\u001b[0m\u001b[1;33m)\u001b[0m\u001b[1;33m\u001b[0m\u001b[1;33m\u001b[0m\u001b[0m\n\u001b[1;32m--> 299\u001b[1;33m             \u001b[1;32mreturn\u001b[0m \u001b[0mfunc\u001b[0m\u001b[1;33m(\u001b[0m\u001b[1;33m*\u001b[0m\u001b[0margs\u001b[0m\u001b[1;33m,\u001b[0m \u001b[1;33m**\u001b[0m\u001b[0mkwargs\u001b[0m\u001b[1;33m)\u001b[0m\u001b[1;33m\u001b[0m\u001b[1;33m\u001b[0m\u001b[0m\n\u001b[0m\u001b[0;32m    300\u001b[0m \u001b[1;33m\u001b[0m\u001b[0m\n\u001b[0;32m    301\u001b[0m         \u001b[1;32mreturn\u001b[0m \u001b[0mwrapper\u001b[0m\u001b[1;33m\u001b[0m\u001b[1;33m\u001b[0m\u001b[0m\n",
      "\u001b[1;32mC:\\ProgramData\\Anaconda3\\lib\\site-packages\\pandas\\io\\excel\\_base.py\u001b[0m in \u001b[0;36mread_excel\u001b[1;34m(io, sheet_name, header, names, index_col, usecols, squeeze, dtype, engine, converters, true_values, false_values, skiprows, nrows, na_values, keep_default_na, na_filter, verbose, parse_dates, date_parser, thousands, comment, skipfooter, convert_float, mangle_dupe_cols, storage_options)\u001b[0m\n\u001b[0;32m    334\u001b[0m     \u001b[1;32mif\u001b[0m \u001b[1;32mnot\u001b[0m \u001b[0misinstance\u001b[0m\u001b[1;33m(\u001b[0m\u001b[0mio\u001b[0m\u001b[1;33m,\u001b[0m \u001b[0mExcelFile\u001b[0m\u001b[1;33m)\u001b[0m\u001b[1;33m:\u001b[0m\u001b[1;33m\u001b[0m\u001b[1;33m\u001b[0m\u001b[0m\n\u001b[0;32m    335\u001b[0m         \u001b[0mshould_close\u001b[0m \u001b[1;33m=\u001b[0m \u001b[1;32mTrue\u001b[0m\u001b[1;33m\u001b[0m\u001b[1;33m\u001b[0m\u001b[0m\n\u001b[1;32m--> 336\u001b[1;33m         \u001b[0mio\u001b[0m \u001b[1;33m=\u001b[0m \u001b[0mExcelFile\u001b[0m\u001b[1;33m(\u001b[0m\u001b[0mio\u001b[0m\u001b[1;33m,\u001b[0m \u001b[0mstorage_options\u001b[0m\u001b[1;33m=\u001b[0m\u001b[0mstorage_options\u001b[0m\u001b[1;33m,\u001b[0m \u001b[0mengine\u001b[0m\u001b[1;33m=\u001b[0m\u001b[0mengine\u001b[0m\u001b[1;33m)\u001b[0m\u001b[1;33m\u001b[0m\u001b[1;33m\u001b[0m\u001b[0m\n\u001b[0m\u001b[0;32m    337\u001b[0m     \u001b[1;32melif\u001b[0m \u001b[0mengine\u001b[0m \u001b[1;32mand\u001b[0m \u001b[0mengine\u001b[0m \u001b[1;33m!=\u001b[0m \u001b[0mio\u001b[0m\u001b[1;33m.\u001b[0m\u001b[0mengine\u001b[0m\u001b[1;33m:\u001b[0m\u001b[1;33m\u001b[0m\u001b[1;33m\u001b[0m\u001b[0m\n\u001b[0;32m    338\u001b[0m         raise ValueError(\n",
      "\u001b[1;32mC:\\ProgramData\\Anaconda3\\lib\\site-packages\\pandas\\io\\excel\\_base.py\u001b[0m in \u001b[0;36m__init__\u001b[1;34m(self, path_or_buffer, engine, storage_options)\u001b[0m\n\u001b[0;32m   1069\u001b[0m                 \u001b[0mext\u001b[0m \u001b[1;33m=\u001b[0m \u001b[1;34m\"xls\"\u001b[0m\u001b[1;33m\u001b[0m\u001b[1;33m\u001b[0m\u001b[0m\n\u001b[0;32m   1070\u001b[0m             \u001b[1;32melse\u001b[0m\u001b[1;33m:\u001b[0m\u001b[1;33m\u001b[0m\u001b[1;33m\u001b[0m\u001b[0m\n\u001b[1;32m-> 1071\u001b[1;33m                 ext = inspect_excel_format(\n\u001b[0m\u001b[0;32m   1072\u001b[0m                     \u001b[0mcontent\u001b[0m\u001b[1;33m=\u001b[0m\u001b[0mpath_or_buffer\u001b[0m\u001b[1;33m,\u001b[0m \u001b[0mstorage_options\u001b[0m\u001b[1;33m=\u001b[0m\u001b[0mstorage_options\u001b[0m\u001b[1;33m\u001b[0m\u001b[1;33m\u001b[0m\u001b[0m\n\u001b[0;32m   1073\u001b[0m                 )\n",
      "\u001b[1;32mC:\\ProgramData\\Anaconda3\\lib\\site-packages\\pandas\\io\\excel\\_base.py\u001b[0m in \u001b[0;36minspect_excel_format\u001b[1;34m(path, content, storage_options)\u001b[0m\n\u001b[0;32m    947\u001b[0m     \u001b[1;32massert\u001b[0m \u001b[0mcontent_or_path\u001b[0m \u001b[1;32mis\u001b[0m \u001b[1;32mnot\u001b[0m \u001b[1;32mNone\u001b[0m\u001b[1;33m\u001b[0m\u001b[1;33m\u001b[0m\u001b[0m\n\u001b[0;32m    948\u001b[0m \u001b[1;33m\u001b[0m\u001b[0m\n\u001b[1;32m--> 949\u001b[1;33m     with get_handle(\n\u001b[0m\u001b[0;32m    950\u001b[0m         \u001b[0mcontent_or_path\u001b[0m\u001b[1;33m,\u001b[0m \u001b[1;34m\"rb\"\u001b[0m\u001b[1;33m,\u001b[0m \u001b[0mstorage_options\u001b[0m\u001b[1;33m=\u001b[0m\u001b[0mstorage_options\u001b[0m\u001b[1;33m,\u001b[0m \u001b[0mis_text\u001b[0m\u001b[1;33m=\u001b[0m\u001b[1;32mFalse\u001b[0m\u001b[1;33m\u001b[0m\u001b[1;33m\u001b[0m\u001b[0m\n\u001b[0;32m    951\u001b[0m     ) as handle:\n",
      "\u001b[1;32mC:\\ProgramData\\Anaconda3\\lib\\site-packages\\pandas\\io\\common.py\u001b[0m in \u001b[0;36mget_handle\u001b[1;34m(path_or_buf, mode, encoding, compression, memory_map, is_text, errors, storage_options)\u001b[0m\n\u001b[0;32m    649\u001b[0m         \u001b[1;32melse\u001b[0m\u001b[1;33m:\u001b[0m\u001b[1;33m\u001b[0m\u001b[1;33m\u001b[0m\u001b[0m\n\u001b[0;32m    650\u001b[0m             \u001b[1;31m# Binary mode\u001b[0m\u001b[1;33m\u001b[0m\u001b[1;33m\u001b[0m\u001b[1;33m\u001b[0m\u001b[0m\n\u001b[1;32m--> 651\u001b[1;33m             \u001b[0mhandle\u001b[0m \u001b[1;33m=\u001b[0m \u001b[0mopen\u001b[0m\u001b[1;33m(\u001b[0m\u001b[0mhandle\u001b[0m\u001b[1;33m,\u001b[0m \u001b[0mioargs\u001b[0m\u001b[1;33m.\u001b[0m\u001b[0mmode\u001b[0m\u001b[1;33m)\u001b[0m\u001b[1;33m\u001b[0m\u001b[1;33m\u001b[0m\u001b[0m\n\u001b[0m\u001b[0;32m    652\u001b[0m         \u001b[0mhandles\u001b[0m\u001b[1;33m.\u001b[0m\u001b[0mappend\u001b[0m\u001b[1;33m(\u001b[0m\u001b[0mhandle\u001b[0m\u001b[1;33m)\u001b[0m\u001b[1;33m\u001b[0m\u001b[1;33m\u001b[0m\u001b[0m\n\u001b[0;32m    653\u001b[0m \u001b[1;33m\u001b[0m\u001b[0m\n",
      "\u001b[1;31mFileNotFoundError\u001b[0m: [Errno 2] No such file or directory: 'C:\\\\Users\\\\1234\\\\Downloads\\\\RakaminAcademy\\\\HomeWork\\\\Dataset\\\\data_airlines.xlsx'"
     ]
    }
   ],
   "source": [
    "# read data\n",
    "\n",
    "airlines = pd.read_excel(r'C:\\Users\\1234\\Downloads\\RakaminAcademy\\HomeWork\\Dataset\\data_airlines.xlsx')\n",
    "airports = pd.read_excel(r'C:\\Users\\1234\\Downloads\\RakaminAcademy\\HomeWork\\Dataset\\data_airports.xlsx')\n",
    "flights  = pd.read_excel(r'C:\\Users\\1234\\Downloads\\RakaminAcademy\\HomeWork\\Dataset\\data_flights.xlsx')\n"
   ]
  },
  {
   "cell_type": "code",
   "execution_count": null,
   "id": "f747938d",
   "metadata": {},
   "outputs": [],
   "source": [
    "# Point 1 : Total penerbangan per bulan selama 2015 (3 point)\n",
    "\n",
    "flights[(flights['YEAR'] == 2015)].groupby('MONTH').agg({'DEPARTURE_TIME' : 'count'})"
   ]
  },
  {
   "cell_type": "code",
   "execution_count": null,
   "id": "789f4f38",
   "metadata": {},
   "outputs": [],
   "source": [
    "# Point 2 : Total penerbangan yang CANCELLED per bulan\n",
    "\n",
    "flights[(flights['YEAR'] == 2015) & (flights['CANCELLED'] == 1)].groupby('MONTH').agg({'CANCELLED' : 'count'})"
   ]
  },
  {
   "cell_type": "code",
   "execution_count": null,
   "id": "30eae790",
   "metadata": {},
   "outputs": [],
   "source": [
    "# Point 3 : Rata-rata, Minimum dan Maksimum ELAPSED_TIME per bulan\n",
    "\n",
    "flights[(flights['YEAR'] == 2015)].groupby('MONTH').agg({'ELAPSED_TIME' : ['mean', 'min', 'max']})"
   ]
  },
  {
   "cell_type": "markdown",
   "id": "8b28e07e",
   "metadata": {},
   "source": [
    "## No.7"
   ]
  },
  {
   "cell_type": "code",
   "execution_count": null,
   "id": "79cb1325",
   "metadata": {},
   "outputs": [],
   "source": [
    "# Question : Destinasi airport** mana yang paling \n",
    "#            banyak jumlah penerbangannya? \n",
    "\n",
    "airport_merge = pd.merge(airports, flights,\n",
    "                         how='inner',\n",
    "                         left_on = 'IATA_CODE',\n",
    "                         right_on = 'DESTINATION_AIRPORT')\n",
    "\n",
    "# filter airport Northwest Florida & John F. Kennedy\n",
    "filter_airport = airport_merge[airport_merge['AIRPORT'].str.contains('^Northwest Florida|^John F. Kennedy')]\n",
    "\n",
    "# total airport Northwest Florida & John F. Kennedy berdasarkan DESTINATION_AIRPORT\n",
    "total_airport = filter_airport.groupby('AIRPORT').agg({'DESTINATION_AIRPORT' : 'count'})\n",
    "total = total_airport.reset_index()\n",
    "\n",
    "#total terbanyak\n",
    "total_terbanyak = total[total['DESTINATION_AIRPORT'] == total['DESTINATION_AIRPORT'].max()]\n",
    "total_terbanyak "
   ]
  },
  {
   "cell_type": "markdown",
   "id": "a80f0713",
   "metadata": {},
   "source": [
    "# Soal Advanced"
   ]
  },
  {
   "cell_type": "markdown",
   "id": "b5937f28",
   "metadata": {},
   "source": [
    "## No.8"
   ]
  },
  {
   "cell_type": "code",
   "execution_count": null,
   "id": "710a40e1",
   "metadata": {},
   "outputs": [],
   "source": [
    "# read data\n",
    "\n",
    "telecom_revenue = pd.read_csv('01 telecom_revenue.csv')\n",
    "telecom_usage = pd.read_csv('02 telecom_usage.csv')"
   ]
  },
  {
   "cell_type": "code",
   "execution_count": null,
   "id": "12b5a7bd",
   "metadata": {},
   "outputs": [],
   "source": [
    "# Point 1 : df_1:Filter dataset 01 telecom_revenue.csv dengan multiple kondisi\n",
    "\n",
    "df_1 = telecom_revenue[(telecom_revenue['MonthlyRevenue'] > 10)\n",
    "                        & (telecom_revenue['Occupation'].isin(['Professional', 'Student', 'Crafts']))]\n",
    "\n",
    "df_1.head()"
   ]
  },
  {
   "cell_type": "code",
   "execution_count": null,
   "id": "81e1ec55",
   "metadata": {},
   "outputs": [],
   "source": [
    "# Point 2 : df_2:Filter dataset 02 telecom_usage.csv dengan multiple kondisi \n",
    "\n",
    "df_2 = telecom_usage[(telecom_usage['CustomerCareCalls'].\n",
    "                      astype('str').str.contains('^2|^4|^6|^8'))\n",
    "                      & (telecom_usage['UnansweredCalls'] > telecom_usage['BlockedCalls'])]\n",
    "df_2.head()"
   ]
  },
  {
   "cell_type": "code",
   "execution_count": null,
   "id": "c15c97ed",
   "metadata": {
    "scrolled": true
   },
   "outputs": [],
   "source": [
    "# Point 3 : Hitunglah total CustomerID** dan rata-rata DroppedCalls** untuk\n",
    "#          masing-masing occupation\n",
    "\n",
    "#merge\n",
    "df_merge = df_1.merge(df_2, on = 'CustomerID')\n",
    "df_merge.head(2)\n",
    "\n",
    "#menghitung\n",
    "df_occupation = df_merge.groupby('Occupation').agg({'CustomerID'   : ['count'], 'DroppedCalls' : ['mean']})\n",
    "df_occupation"
   ]
  },
  {
   "cell_type": "code",
   "execution_count": null,
   "id": "5ceb7484",
   "metadata": {},
   "outputs": [],
   "source": [
    "# Point 4 : Pada occupation apa, rata-rata DroppedCalls paling besar? \n",
    "\n",
    "df_occupation.reset_index()\n",
    "df_occupation['DroppedCalls'].max()"
   ]
  }
 ],
 "metadata": {
  "kernelspec": {
   "display_name": "Python 3",
   "language": "python",
   "name": "python3"
  },
  "language_info": {
   "codemirror_mode": {
    "name": "ipython",
    "version": 3
   },
   "file_extension": ".py",
   "mimetype": "text/x-python",
   "name": "python",
   "nbconvert_exporter": "python",
   "pygments_lexer": "ipython3",
   "version": "3.8.8"
  },
  "toc": {
   "base_numbering": 1,
   "nav_menu": {},
   "number_sections": false,
   "sideBar": true,
   "skip_h1_title": false,
   "title_cell": "Table of Contents",
   "title_sidebar": "Contents",
   "toc_cell": false,
   "toc_position": {},
   "toc_section_display": true,
   "toc_window_display": true
  }
 },
 "nbformat": 4,
 "nbformat_minor": 5
}
