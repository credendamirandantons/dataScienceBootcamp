{
 "cells": [
  {
   "cell_type": "code",
   "execution_count": 135,
   "id": "05a074cf",
   "metadata": {},
   "outputs": [],
   "source": [
    "import numpy as np\n",
    "import pandas as pd\n",
    "\n",
    "## Library visualisasi\n",
    "import matplotlib\n",
    "import matplotlib.pyplot as plt\n",
    "import seaborn as sns\n",
    "import scipy.stats as st #untuk melakukan uji signifikansi statistik"
   ]
  },
  {
   "cell_type": "markdown",
   "id": "428b6feb",
   "metadata": {},
   "source": [
    "## NO.1\n",
    "\n",
    "# Tunjukkan statistika deskriptif untuk variabel harga rumah \n",
    "# (Column Name : SalePrice)!\n",
    "Ceritakan kepada tim bisnis apa makna dari nilai nilai \n",
    "tersebut!\n",
    "Ekspektasi output :\n",
    "\n",
    "● ukuran pemusatan (4 poin)\n",
    "\n",
    "● ukuran penyebaran (4 poin)\n",
    "\n",
    "● Interpretasi (2 poin)\n"
   ]
  },
  {
   "cell_type": "code",
   "execution_count": 136,
   "id": "ed6d9ff2",
   "metadata": {},
   "outputs": [],
   "source": [
    "# read data\n",
    "df1 = pd.read_csv(\"train.csv\")"
   ]
  },
  {
   "cell_type": "code",
   "execution_count": 137,
   "id": "0eb58b04",
   "metadata": {},
   "outputs": [
    {
     "name": "stdout",
     "output_type": "stream",
     "text": [
      "Modus   : 140000\n",
      "Median  : 163000.0\n",
      "Mean    : 180921.19589041095\n",
      "Q3 (75%): 214000.0\n",
      "Q1 (25%): 129975.0\n"
     ]
    }
   ],
   "source": [
    "#diketahui dari data\n",
    "x = df1['SalePrice']\n",
    "\n",
    "#Ukuran pemusatan \n",
    "print('Modus   :', x.mode()[0]) #frekuensi yang sering muncul pada data\n",
    "print('Median  :', x.median())\n",
    "print('Mean    :', x.mean())\n",
    "\n",
    "Q3, Q1 = np.percentile(x, [75 ,25])\n",
    "print('Q3 (75%):', Q3)\n",
    "print('Q1 (25%):', Q1)"
   ]
  },
  {
   "cell_type": "markdown",
   "id": "fd2bbf66",
   "metadata": {},
   "source": [
    "Modus : Umumnya harga rumah adalah 140,000$\n",
    "\n",
    "Mean  : Harga 1 rumah sekisaran 180,921$\n",
    "\n",
    "Median : Nilai teangah atau 50% harga rumah berada di bawah 163,000$\n",
    "\n",
    "Q3    : 25% harga rumah berada di batas 214,000$\n",
    "\n",
    "Q1    : 25% harga rumah berada di bawah 129,975$"
   ]
  },
  {
   "cell_type": "code",
   "execution_count": 138,
   "id": "ec87b5ae",
   "metadata": {},
   "outputs": [
    {
     "name": "stdout",
     "output_type": "stream",
     "text": [
      "Standard Deviation         : 79442.50288288663\n",
      "Variance                   : 6311111264.297451\n",
      "Inter Quartile Range (IQR) : 84025.0\n"
     ]
    }
   ],
   "source": [
    "# Ukuran penyebaran\n",
    "print('Standard Deviation         :', x.std())\n",
    "print('Variance                   :', x.var())\n",
    "print('Inter Quartile Range (IQR) :', Q3 - Q1)"
   ]
  },
  {
   "cell_type": "markdown",
   "id": "7921cc91",
   "metadata": {},
   "source": [
    "Standard Deviation : Harga rumah berkisar antara 180,921 - 79,442 USD sampai 180,921 + 79,442 USD\n",
    "\n",
    "Interquartile : Jarak antara Q3 dan Q1 sebesar 84025.0 USD"
   ]
  },
  {
   "cell_type": "markdown",
   "id": "d1d85fd8",
   "metadata": {},
   "source": [
    "## NO. 2\n",
    "\n",
    "# Tunjukkan statistika deskriptif untuk variabel harga rumah (Column Name : SalePrice) setiap tahunnya (Column Name : YrSold)!\n",
    "\n",
    "# Secara deskriptif jelaskan apakah ada perbedaan setiap tahunnya atau tidak?\n",
    "\n",
    "Ekspektasi output: \n",
    "    \n",
    "● ukuran pemusatan (6 poin)\n",
    "\n",
    "● ukuran penyebaran (6 poin)\n",
    "\n",
    "● Interpretasi (3 poin)\n"
   ]
  },
  {
   "cell_type": "code",
   "execution_count": 139,
   "id": "4c9230a0",
   "metadata": {},
   "outputs": [],
   "source": [
    "# read data\n",
    "df2 = pd.read_csv(\"train.csv\")"
   ]
  },
  {
   "cell_type": "code",
   "execution_count": 140,
   "id": "36614648",
   "metadata": {},
   "outputs": [
    {
     "data": {
      "text/html": [
       "<div>\n",
       "<style scoped>\n",
       "    .dataframe tbody tr th:only-of-type {\n",
       "        vertical-align: middle;\n",
       "    }\n",
       "\n",
       "    .dataframe tbody tr th {\n",
       "        vertical-align: top;\n",
       "    }\n",
       "\n",
       "    .dataframe thead th {\n",
       "        text-align: right;\n",
       "    }\n",
       "</style>\n",
       "<table border=\"1\" class=\"dataframe\">\n",
       "  <thead>\n",
       "    <tr style=\"text-align: right;\">\n",
       "      <th></th>\n",
       "      <th>Tahun</th>\n",
       "      <th>Mean</th>\n",
       "      <th>Median</th>\n",
       "      <th>Q1</th>\n",
       "      <th>Q3</th>\n",
       "      <th>Std</th>\n",
       "      <th>Var</th>\n",
       "    </tr>\n",
       "  </thead>\n",
       "  <tbody>\n",
       "    <tr>\n",
       "      <th>1</th>\n",
       "      <td>2007</td>\n",
       "      <td>186063.151976</td>\n",
       "      <td>167000</td>\n",
       "      <td>129900</td>\n",
       "      <td>219500.0</td>\n",
       "      <td>85768.171410</td>\n",
       "      <td>7.356179e+09</td>\n",
       "    </tr>\n",
       "    <tr>\n",
       "      <th>0</th>\n",
       "      <td>2006</td>\n",
       "      <td>182549.458599</td>\n",
       "      <td>163995</td>\n",
       "      <td>131375</td>\n",
       "      <td>218782.5</td>\n",
       "      <td>79426.838855</td>\n",
       "      <td>6.308623e+09</td>\n",
       "    </tr>\n",
       "    <tr>\n",
       "      <th>3</th>\n",
       "      <td>2009</td>\n",
       "      <td>179432.103550</td>\n",
       "      <td>162000</td>\n",
       "      <td>125250</td>\n",
       "      <td>212750.0</td>\n",
       "      <td>80879.237311</td>\n",
       "      <td>6.541451e+09</td>\n",
       "    </tr>\n",
       "    <tr>\n",
       "      <th>4</th>\n",
       "      <td>2010</td>\n",
       "      <td>177393.674286</td>\n",
       "      <td>155000</td>\n",
       "      <td>128100</td>\n",
       "      <td>213250.0</td>\n",
       "      <td>80451.280085</td>\n",
       "      <td>6.472408e+09</td>\n",
       "    </tr>\n",
       "    <tr>\n",
       "      <th>2</th>\n",
       "      <td>2008</td>\n",
       "      <td>177360.838816</td>\n",
       "      <td>164000</td>\n",
       "      <td>131250</td>\n",
       "      <td>207000.0</td>\n",
       "      <td>69735.610685</td>\n",
       "      <td>4.863055e+09</td>\n",
       "    </tr>\n",
       "  </tbody>\n",
       "</table>\n",
       "</div>"
      ],
      "text/plain": [
       "   Tahun           Mean  Median      Q1        Q3           Std           Var\n",
       "1   2007  186063.151976  167000  129900  219500.0  85768.171410  7.356179e+09\n",
       "0   2006  182549.458599  163995  131375  218782.5  79426.838855  6.308623e+09\n",
       "3   2009  179432.103550  162000  125250  212750.0  80879.237311  6.541451e+09\n",
       "4   2010  177393.674286  155000  128100  213250.0  80451.280085  6.472408e+09\n",
       "2   2008  177360.838816  164000  131250  207000.0  69735.610685  4.863055e+09"
      ]
     },
     "execution_count": 140,
     "metadata": {},
     "output_type": "execute_result"
    }
   ],
   "source": [
    "def Qt1(x):\n",
    "    return x.quantile(0.25)\n",
    "\n",
    "def Qt3(x):\n",
    "    return x.quantile(0.75)\n",
    "    \n",
    "s = df2.groupby('YrSold').agg({'SalePrice' : ['mean', 'median', Qt1, Qt3, 'std', 'var']}).reset_index()\n",
    "s.columns = ['Tahun', 'Mean', 'Median', 'Q1', 'Q3', 'Std', 'Var']\n",
    "data2 = s.sort_values('Mean', ascending = False)\n",
    "data2"
   ]
  },
  {
   "cell_type": "markdown",
   "id": "b6a4ecb1",
   "metadata": {},
   "source": [
    "Rata - rata dari harga rumah paling tinggi ada pada tahun 2007. \n",
    "Namun pada tahun tersebut memiliki harga paling beragam dibandingkan\n",
    "dengan harga lainya\n",
    "\n",
    "Note : Bila nilai Std > mean maka data akan semakin beragam, dan sebaliknya."
   ]
  },
  {
   "cell_type": "markdown",
   "id": "56db6a29",
   "metadata": {},
   "source": [
    "## NO 3\n",
    "\n",
    "# Bagaimana distribusi harga rumah tersebut. Gunakan histogram plot tidak terbatas hanya histogram saja. Jelaskan sebaiknya untuk analisa apakah lebih baik menggunakan mean atau menggunakan median? Beserta alasannya (Column Name : SalePrice) \n",
    "\n",
    "# Ceritakan analisa tersebut dengan sudut pandang statistika. Buatlah tim bisnis paham maksud dari grafik histogram tersebut.\n",
    "\n",
    "Ekspektasi : \n",
    "    \n",
    "● Grafik Histogram (5 poin)\n",
    "\n",
    "● Analisa (8 poin)\n",
    "\n",
    "● Interpretasi (2 poin)\n"
   ]
  },
  {
   "cell_type": "code",
   "execution_count": 141,
   "id": "8799a287",
   "metadata": {},
   "outputs": [
    {
     "data": {
      "image/png": "[encoded data removed]",
      "text/plain": [
       "<Figure size 864x864 with 3 Axes>"
      ]
     },
     "metadata": {
      "needs_background": "light"
     },
     "output_type": "display_data"
    }
   ],
   "source": [
    "#read data\n",
    "df3 = pd.read_csv(\"train.csv\")\n",
    "\n",
    "#sns.histplot(x='SalePrice', data=df3, color= 'pink')\n",
    "\n",
    "fig, axes=plt.subplots(3,1,figsize=(12,12), sharex=True)\n",
    "sns.boxplot(x='SalePrice', data=df3, palette=\"ch:s=.25,rot=-.25\", ax=axes[0])\n",
    "sns.kdeplot(data=df3, x='SalePrice', fill=True, palette='ch:s=.25,rot=-.25', ax=axes[1])\n",
    "sns.histplot(data=df3, x='SalePrice', palette=\"ch:s=.25,rot=-.25\", ax=axes[2])\n",
    "\n",
    "plt.show()"
   ]
  },
  {
   "cell_type": "markdown",
   "id": "478af97d",
   "metadata": {},
   "source": [
    "Harga rumah memiliki sebaran yang skewed (menceng) ke arah kanan yang artinya Positively Skewed.\n",
    "Hal ini menyebabkan jika kita menggunakan rata-rata akan lebih besar dibandingkan dengan menggunakan median.\n",
    "Dan untuk data tersebut lebih baik kita menggunakan median \n",
    "dibandingkan dengan menggunakan rata - rata"
   ]
  },
  {
   "cell_type": "markdown",
   "id": "11d68d2d",
   "metadata": {},
   "source": [
    "## NO 4\n",
    "\n",
    "# Karena ada pernyataan bahwa setiap tahunnya harga rumah itu pasti naik. (tahun terjual : YrSold, harga rumah : SalePrice) Silahkan teman-teman buktikan dengan data yang ada menggunakan ilmu statistika? (Tidak terbatas pada pengujian apapun)\n",
    "\n",
    "Ekspektasi :\n",
    "\n",
    "● Penentuan hipotesis (5 poin)\n",
    "\n",
    "● Pengujian yang digunakan (5 poin)\n",
    "\n",
    "● Hasil pengujian hipotesis (10 poin)\n",
    "\n",
    "● Kesimpulan dan interpretasi (10 poin)\n"
   ]
  },
  {
   "cell_type": "markdown",
   "id": "d8b6fac7",
   "metadata": {},
   "source": [
    "### a. Penentuan hipotesis\n",
    "\n",
    "H0 : Rata - rata harga rumah setiap tahunya **sama**\n",
    "    \n",
    "H1 : Rata - rata harga rumah setiap tahunya **berbeda**\n",
    "\n",
    "note: \n",
    "\n",
    "H0 = Tidak berpengaruh satu sama lainya\n",
    "\n",
    "H1 = Mempengaruhi satu sama lainya \n",
    "\n",
    "### b. Pengujian yang digunakan\n",
    "\n",
    "Melakukan pengujian **Anova**"
   ]
  },
  {
   "cell_type": "code",
   "execution_count": 142,
   "id": "f7cd7843",
   "metadata": {},
   "outputs": [],
   "source": [
    "# Kriteria α = 0.05\n",
    "\n",
    "#read data\n",
    "df = pd.read_csv(\"train.csv\")\n",
    "\n",
    "df_06 = df[df['YrSold'] == 2006]\n",
    "df_07 = df[df['YrSold'] == 2007]\n",
    "df_08 = df[df['YrSold'] == 2008]\n",
    "df_09 = df[df['YrSold'] == 2009]\n",
    "df_10 = df[df['YrSold'] == 2010]"
   ]
  },
  {
   "cell_type": "code",
   "execution_count": 143,
   "id": "f91ef9a6",
   "metadata": {},
   "outputs": [
    {
     "data": {
      "text/plain": [
       "YrSold\n",
       "2006    182549.458599\n",
       "2007    186063.151976\n",
       "2008    177360.838816\n",
       "2009    179432.103550\n",
       "2010    177393.674286\n",
       "Name: SalePrice, dtype: float64"
      ]
     },
     "execution_count": 143,
     "metadata": {},
     "output_type": "execute_result"
    }
   ],
   "source": [
    "df.groupby(['YrSold'])['SalePrice'].mean()"
   ]
  },
  {
   "cell_type": "code",
   "execution_count": 144,
   "id": "ea7b2970",
   "metadata": {},
   "outputs": [],
   "source": [
    "# Langkah 3\n",
    "\n",
    "#oneway = data yang sama(data yang mirip)\n",
    "#twoway = data yang beda banget(ex: membandingkan obat)\n",
    "anova = st.f_oneway(df_06['SalePrice'],df_07['SalePrice'],df_08['SalePrice'],df_09['SalePrice'],df_10['SalePrice'])"
   ]
  },
  {
   "cell_type": "code",
   "execution_count": 145,
   "id": "ab89c45b",
   "metadata": {},
   "outputs": [
    {
     "name": "stdout",
     "output_type": "stream",
     "text": [
      "0.6300887663573457\n",
      "Tidak cukup bukti menyatakan bahwa rata - rata harga rumah setiap tahunya sama\n"
     ]
    }
   ],
   "source": [
    "alpha = 0.05\n",
    "pvalue = anova.pvalue\n",
    "print(pvalue)\n",
    "if pvalue >= 0.05:\n",
    "  print('Tidak cukup bukti menyatakan bahwa rata - rata harga rumah setiap tahunya sama')\n",
    "else:\n",
    "  print('Cukup bukti menyatakan (Tolak H0) bahwa rata - rata harga rumah setiap tahunya berbeda')\n",
    "\n",
    "\n",
    "#apapbila pvalue < alpha artinya H0 yang diterima"
   ]
  },
  {
   "cell_type": "markdown",
   "id": "21e11cfe",
   "metadata": {},
   "source": [
    "### c. Hasil pengujian hipotesis (10 poin)\n",
    "\n",
    "Hasil uji hipotesis menunjukkan bahwa p-value > alpha, maka kita akan mengambil keputusan bahwa tidak ada perbedaan signifikan harga rumah untuk setiap tahunya\n",
    "\n",
    "### d. Kesimpulan dan interpretasi (10 poin)\n",
    "\n",
    "Nilai P-Value yang didapatkan adalah 0.6300887663573457 dengan nilai alpha 0.05. Dengan hasil tersebut maka P-Value lebih besar dari alpha, maka tidak cukup bukti menyatakan bahwa rata - rata harga rumah setiap tahunya sama.\n",
    "\n",
    "**Kersimpulan**\n",
    "sehingga, kita dapat menyimpulkan rata - rata sale price house tidak mengalami kenaikan setiap tahunya"
   ]
  },
  {
   "cell_type": "markdown",
   "id": "9c7fe240",
   "metadata": {},
   "source": [
    "# Kasus yang akan digunakan adalah membuka akun deposit untuk nasabah bank. Pada kesempatan kali ini data scientist diminta tolong untuk menganalisa hasil ab-testing suatu perusahaan bank. Apakah jumlah campaign mampu meningkatkan keinginan user untuk membuka akun deposit atau tidak?\n",
    "\n",
    "# Data yang digunakan berasal dari folder bank.zip file yang digunakan adalah bank-full.csv\n",
    "\n",
    "1. Untuk variabel jumlah campaign bisa dicek untuk kolom campaign \n",
    "2. untuk variabel apakah akhirnya user membuka akun atau tidak bisa menggunakan variabel y"
   ]
  },
  {
   "cell_type": "code",
   "execution_count": 146,
   "id": "7e455080",
   "metadata": {},
   "outputs": [
    {
     "data": {
      "text/html": [
       "<div>\n",
       "<style scoped>\n",
       "    .dataframe tbody tr th:only-of-type {\n",
       "        vertical-align: middle;\n",
       "    }\n",
       "\n",
       "    .dataframe tbody tr th {\n",
       "        vertical-align: top;\n",
       "    }\n",
       "\n",
       "    .dataframe thead th {\n",
       "        text-align: right;\n",
       "    }\n",
       "</style>\n",
       "<table border=\"1\" class=\"dataframe\">\n",
       "  <thead>\n",
       "    <tr style=\"text-align: right;\">\n",
       "      <th></th>\n",
       "      <th>age</th>\n",
       "      <th>job</th>\n",
       "      <th>marital</th>\n",
       "      <th>education</th>\n",
       "      <th>default</th>\n",
       "      <th>balance</th>\n",
       "      <th>housing</th>\n",
       "      <th>loan</th>\n",
       "      <th>contact</th>\n",
       "      <th>day</th>\n",
       "      <th>month</th>\n",
       "      <th>duration</th>\n",
       "      <th>campaign</th>\n",
       "      <th>pdays</th>\n",
       "      <th>previous</th>\n",
       "      <th>poutcome</th>\n",
       "      <th>y</th>\n",
       "    </tr>\n",
       "  </thead>\n",
       "  <tbody>\n",
       "    <tr>\n",
       "      <th>0</th>\n",
       "      <td>58</td>\n",
       "      <td>management</td>\n",
       "      <td>married</td>\n",
       "      <td>tertiary</td>\n",
       "      <td>no</td>\n",
       "      <td>2143</td>\n",
       "      <td>yes</td>\n",
       "      <td>no</td>\n",
       "      <td>unknown</td>\n",
       "      <td>5</td>\n",
       "      <td>may</td>\n",
       "      <td>261</td>\n",
       "      <td>1</td>\n",
       "      <td>-1</td>\n",
       "      <td>0</td>\n",
       "      <td>unknown</td>\n",
       "      <td>no</td>\n",
       "    </tr>\n",
       "    <tr>\n",
       "      <th>1</th>\n",
       "      <td>44</td>\n",
       "      <td>technician</td>\n",
       "      <td>single</td>\n",
       "      <td>secondary</td>\n",
       "      <td>no</td>\n",
       "      <td>29</td>\n",
       "      <td>yes</td>\n",
       "      <td>no</td>\n",
       "      <td>unknown</td>\n",
       "      <td>5</td>\n",
       "      <td>may</td>\n",
       "      <td>151</td>\n",
       "      <td>1</td>\n",
       "      <td>-1</td>\n",
       "      <td>0</td>\n",
       "      <td>unknown</td>\n",
       "      <td>no</td>\n",
       "    </tr>\n",
       "    <tr>\n",
       "      <th>2</th>\n",
       "      <td>33</td>\n",
       "      <td>entrepreneur</td>\n",
       "      <td>married</td>\n",
       "      <td>secondary</td>\n",
       "      <td>no</td>\n",
       "      <td>2</td>\n",
       "      <td>yes</td>\n",
       "      <td>yes</td>\n",
       "      <td>unknown</td>\n",
       "      <td>5</td>\n",
       "      <td>may</td>\n",
       "      <td>76</td>\n",
       "      <td>1</td>\n",
       "      <td>-1</td>\n",
       "      <td>0</td>\n",
       "      <td>unknown</td>\n",
       "      <td>no</td>\n",
       "    </tr>\n",
       "    <tr>\n",
       "      <th>3</th>\n",
       "      <td>47</td>\n",
       "      <td>blue-collar</td>\n",
       "      <td>married</td>\n",
       "      <td>unknown</td>\n",
       "      <td>no</td>\n",
       "      <td>1506</td>\n",
       "      <td>yes</td>\n",
       "      <td>no</td>\n",
       "      <td>unknown</td>\n",
       "      <td>5</td>\n",
       "      <td>may</td>\n",
       "      <td>92</td>\n",
       "      <td>1</td>\n",
       "      <td>-1</td>\n",
       "      <td>0</td>\n",
       "      <td>unknown</td>\n",
       "      <td>no</td>\n",
       "    </tr>\n",
       "    <tr>\n",
       "      <th>4</th>\n",
       "      <td>33</td>\n",
       "      <td>unknown</td>\n",
       "      <td>single</td>\n",
       "      <td>unknown</td>\n",
       "      <td>no</td>\n",
       "      <td>1</td>\n",
       "      <td>no</td>\n",
       "      <td>no</td>\n",
       "      <td>unknown</td>\n",
       "      <td>5</td>\n",
       "      <td>may</td>\n",
       "      <td>198</td>\n",
       "      <td>1</td>\n",
       "      <td>-1</td>\n",
       "      <td>0</td>\n",
       "      <td>unknown</td>\n",
       "      <td>no</td>\n",
       "    </tr>\n",
       "  </tbody>\n",
       "</table>\n",
       "</div>"
      ],
      "text/plain": [
       "   age           job  marital  education default  balance housing loan  \\\n",
       "0   58    management  married   tertiary      no     2143     yes   no   \n",
       "1   44    technician   single  secondary      no       29     yes   no   \n",
       "2   33  entrepreneur  married  secondary      no        2     yes  yes   \n",
       "3   47   blue-collar  married    unknown      no     1506     yes   no   \n",
       "4   33       unknown   single    unknown      no        1      no   no   \n",
       "\n",
       "   contact  day month  duration  campaign  pdays  previous poutcome   y  \n",
       "0  unknown    5   may       261         1     -1         0  unknown  no  \n",
       "1  unknown    5   may       151         1     -1         0  unknown  no  \n",
       "2  unknown    5   may        76         1     -1         0  unknown  no  \n",
       "3  unknown    5   may        92         1     -1         0  unknown  no  \n",
       "4  unknown    5   may       198         1     -1         0  unknown  no  "
      ]
     },
     "execution_count": 146,
     "metadata": {},
     "output_type": "execute_result"
    }
   ],
   "source": [
    "#import statsmodels.stats.proportion as sp\n",
    "#read data\n",
    "df5 = pd.read_csv('bank-full.csv', sep=';')\n",
    "df5.head()"
   ]
  },
  {
   "cell_type": "markdown",
   "id": "bd9b2267",
   "metadata": {},
   "source": [
    "**1. Pemahaman konsep A/B Testing (5 poin)** \n",
    "\n",
    "A. Apa nama experimentnya?\n",
    "\n",
    "= AB Testing pengaruh jumlah campaign terhadap user yang akhirnya membuka akun deposit\n",
    "\n",
    "B. Definisikan Hipotesis\n",
    "\n",
    "= Nampaign akan meningkatkan user untuk membuka akun deposit\n",
    "\n",
    "C. Siapa participant-nya?\n",
    "\n",
    "= Nasabah Bank\n",
    "\n",
    "D. Variabel yang akan diuji apa?\n",
    "\n",
    "= Jumlah campaign\n",
    "\n",
    "E. Metrics apa yang akan digunakan?\n",
    "\n",
    "= **Macroconversions** : Jumlah campaign per nasabah\n",
    "\n",
    "= **Microconvensions** : Jumlah nasabah yang diberi campaign\n",
    "\n",
    "F. Berapa sample size dan durasi experiment?"
   ]
  },
  {
   "cell_type": "code",
   "execution_count": 147,
   "id": "4e4b8b8b",
   "metadata": {},
   "outputs": [
    {
     "data": {
      "text/plain": [
       "396.4920742803271"
      ]
     },
     "execution_count": 147,
     "metadata": {},
     "output_type": "execute_result"
    }
   ],
   "source": [
    "N = df5.shape[0]\n",
    "e = 0.05\n",
    "slovin = N / (1+N*e**2)\n",
    "slovin #menghitung jumlah sampel minimal apabila perilaku dari sebuah populasi tidak diketahui secara pasti"
   ]
  },
  {
   "cell_type": "code",
   "execution_count": 148,
   "id": "163c700e",
   "metadata": {},
   "outputs": [
    {
     "data": {
      "text/plain": [
       "yes    200\n",
       "no     200\n",
       "Name: y, dtype: int64"
      ]
     },
     "execution_count": 148,
     "metadata": {},
     "output_type": "execute_result"
    }
   ],
   "source": [
    "df5_Sample = df5.groupby(['y']).apply(lambda x: x.sample(n=200, random_state=123))\n",
    "df5_Sample['y'].value_counts()"
   ]
  },
  {
   "cell_type": "markdown",
   "id": "99803d59",
   "metadata": {},
   "source": [
    "Jadi jumlah sample yang dibutuhkan ada 400 sample, dengan 200 untuk masing-masing conversion group (yes/no).\n",
    "\n",
    "durasi experiment akan dilakukan selama 7 hari"
   ]
  },
  {
   "cell_type": "markdown",
   "id": "c7b4771b",
   "metadata": {},
   "source": [
    "**2. Pengujian Hipotesis**\n",
    "\n",
    "a. Pennetuan Hipotesis\n",
    "\n",
    "Apakah jumlah campaign mampu meningkatkan keinginan user untuk membuka akun deposit atau tidak?\n",
    "\n",
    "H0 : Rata - rata jumlah campaign yang membuka akun **sama** dengan yang tidak membuka akun\n",
    "\n",
    "H1 : Rata - rata jumlah campaign nasabah yang membuka akun **berbeda** dengan yang tidak membuka akun\n",
    "\n",
    "b. Pengujian yang digunakan\n",
    "\n",
    "Menggunakan uji-t untuk setiap kategori **membuka akun** dan **tidak membuka akun** \n",
    "\n",
    "Note : Pengujian tidak terbatas pada uji-t\n",
    "\n",
    "c. Deteksi asumsi beserta cara penangananya"
   ]
  },
  {
   "cell_type": "code",
   "execution_count": 149,
   "id": "84011a60",
   "metadata": {},
   "outputs": [],
   "source": [
    "yes = df5[df5['y'] == 'yes']\n",
    "no  = df5[df5['y'] == 'no']"
   ]
  },
  {
   "cell_type": "code",
   "execution_count": 150,
   "id": "9b4c84d1",
   "metadata": {},
   "outputs": [
    {
     "data": {
      "text/plain": [
       "2.1410474569861977"
      ]
     },
     "execution_count": 150,
     "metadata": {},
     "output_type": "execute_result"
    }
   ],
   "source": [
    "yes['campaign'].mean()"
   ]
  },
  {
   "cell_type": "code",
   "execution_count": 151,
   "id": "be1dd7e2",
   "metadata": {},
   "outputs": [
    {
     "data": {
      "text/plain": [
       "2.8463503832473322"
      ]
     },
     "execution_count": 151,
     "metadata": {},
     "output_type": "execute_result"
    }
   ],
   "source": [
    "no['campaign'].mean()"
   ]
  },
  {
   "cell_type": "code",
   "execution_count": 152,
   "id": "1a30448e",
   "metadata": {},
   "outputs": [
    {
     "data": {
      "text/plain": [
       "(0.0, 10.0)"
      ]
     },
     "execution_count": 152,
     "metadata": {},
     "output_type": "execute_result"
    },
    {
     "data": {
      "image/png": "[encoded data removed]",
      "text/plain": [
       "<Figure size 1080x360 with 1 Axes>"
      ]
     },
     "metadata": {
      "needs_background": "light"
     },
     "output_type": "display_data"
    }
   ],
   "source": [
    "plt.figure(figsize=(15,5))\n",
    "\n",
    "sns.kdeplot(yes['campaign'], label='Yes', color = 'purple')\n",
    "sns.kdeplot(no['campaign'], label='No', color = 'orange')\n",
    "\n",
    "plt.legend()\n",
    "plt.xlim(0,10)"
   ]
  },
  {
   "cell_type": "code",
   "execution_count": 153,
   "id": "2886d140",
   "metadata": {},
   "outputs": [
    {
     "data": {
      "text/plain": [
       "(45211, 17)"
      ]
     },
     "execution_count": 153,
     "metadata": {},
     "output_type": "execute_result"
    }
   ],
   "source": [
    "df5.shape"
   ]
  },
  {
   "cell_type": "markdown",
   "id": "b35c08d0",
   "metadata": {},
   "source": [
    "d. Hasil Pengujian Hipotesa"
   ]
  },
  {
   "cell_type": "code",
   "execution_count": 154,
   "id": "15d086cc",
   "metadata": {},
   "outputs": [
    {
     "data": {
      "text/plain": [
       "9.742452436952554e-72"
      ]
     },
     "execution_count": 154,
     "metadata": {},
     "output_type": "execute_result"
    }
   ],
   "source": [
    "stats, pvalue = st.mannwhitneyu(yes['campaign'], no['campaign'])\n",
    "pvalue"
   ]
  },
  {
   "cell_type": "code",
   "execution_count": 155,
   "id": "8da69769",
   "metadata": {},
   "outputs": [
    {
     "name": "stdout",
     "output_type": "stream",
     "text": [
      "P-Value 9.742452436952554e-72\n",
      "Cukup bukti jumlah campaign mampu membedakan user untuk membuka akun atau tidak\n"
     ]
    }
   ],
   "source": [
    "alpha = 0.05\n",
    "\n",
    "print('P-Value', pvalue)\n",
    "if pvalue >= 0.05:\n",
    "    print('Tidak cukup bukti jumlah campaign mampu membedakan user untuk membuka akun atau tidak')\n",
    "else :\n",
    "    print('Cukup bukti jumlah campaign mampu membedakan user untuk membuka akun atau tidak')\n",
    "   \n",
    "#note : p-value < alpha => Tolak H0    "
   ]
  },
  {
   "cell_type": "markdown",
   "id": "282b4880",
   "metadata": {},
   "source": [
    "e. Kesimpulam dan Interpretasi\n",
    "\n",
    "Hasil uji hipotesi menunjukkan bahwa p-value < alpha, maka kita akan mengambil keputusan bahwa jumlah campaign berpengaruh terhadap nasabah untuk membuka akun atau tidak secara signifikan.\n",
    "\n",
    "Namun berdasarkan mean ternyata semakin banyak campaign yang diberikan ternyata user akan semakin menolak membuka akun\n",
    "\n",
    "jadi kesimpulanya, jumlah campaign berhubungan terbalik dengan user membuka akun"
   ]
  }
 ],
 "metadata": {
  "kernelspec": {
   "display_name": "Python 3",
   "language": "python",
   "name": "python3"
  },
  "language_info": {
   "codemirror_mode": {
    "name": "ipython",
    "version": 3
   },
   "file_extension": ".py",
   "mimetype": "text/x-python",
   "name": "python",
   "nbconvert_exporter": "python",
   "pygments_lexer": "ipython3",
   "version": "3.8.8"
  }
 },
 "nbformat": 4,
 "nbformat_minor": 5
}
